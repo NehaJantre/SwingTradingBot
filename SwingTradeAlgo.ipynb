{
 "cells": [
  {
   "cell_type": "code",
   "execution_count": null,
   "id": "942e4628",
   "metadata": {},
   "outputs": [],
   "source": [
    "# Swing Trade Algorithm"
   ]
  },
  {
   "cell_type": "code",
   "execution_count": 2,
   "id": "49f66c9e",
   "metadata": {},
   "outputs": [
    {
     "name": "stdout",
     "output_type": "stream",
     "text": [
      "Requirement already satisfied: alpaca-trade-api in c:\\users\\nehaja\\anaconda3\\envs\\dev\\lib\\site-packages (1.3.0)"
     ]
    },
    {
     "name": "stderr",
     "output_type": "stream",
     "text": [
      "The system cannot find the path specified.\n"
     ]
    },
    {
     "name": "stdout",
     "output_type": "stream",
     "text": [
      "\n",
      "Requirement already satisfied: pandas>=0.18.1 in c:\\users\\nehaja\\anaconda3\\envs\\dev\\lib\\site-packages (from alpaca-trade-api) (0.24.2)\n",
      "Requirement already satisfied: requests<3,>2 in c:\\users\\nehaja\\anaconda3\\envs\\dev\\lib\\site-packages (from alpaca-trade-api) (2.25.1)\n",
      "Requirement already satisfied: urllib3<2,>1.24 in c:\\users\\nehaja\\anaconda3\\envs\\dev\\lib\\site-packages (from alpaca-trade-api) (1.26.6)\n",
      "Requirement already satisfied: numpy>=1.11.1 in c:\\users\\nehaja\\anaconda3\\envs\\dev\\lib\\site-packages (from alpaca-trade-api) (1.19.5)\n",
      "Requirement already satisfied: msgpack==1.0.2 in c:\\users\\nehaja\\anaconda3\\envs\\dev\\lib\\site-packages (from alpaca-trade-api) (1.0.2)\n",
      "Requirement already satisfied: PyYAML==5.4.1 in c:\\users\\nehaja\\anaconda3\\envs\\dev\\lib\\site-packages (from alpaca-trade-api) (5.4.1)\n",
      "Requirement already satisfied: websocket-client<2,>=0.56.0 in c:\\users\\nehaja\\anaconda3\\envs\\dev\\lib\\site-packages (from alpaca-trade-api) (0.57.0)\n",
      "Requirement already satisfied: aiohttp==3.7.4 in c:\\users\\nehaja\\anaconda3\\envs\\dev\\lib\\site-packages (from alpaca-trade-api) (3.7.4)\n",
      "Requirement already satisfied: websockets<10,>=8.0 in c:\\users\\nehaja\\anaconda3\\envs\\dev\\lib\\site-packages (from alpaca-trade-api) (9.1)\n",
      "Requirement already satisfied: attrs>=17.3.0 in c:\\users\\nehaja\\anaconda3\\envs\\dev\\lib\\site-packages (from aiohttp==3.7.4->alpaca-trade-api) (21.2.0)\n",
      "Requirement already satisfied: typing-extensions>=3.6.5 in c:\\users\\nehaja\\anaconda3\\envs\\dev\\lib\\site-packages (from aiohttp==3.7.4->alpaca-trade-api) (3.7.4.3)\n",
      "Requirement already satisfied: async-timeout<4.0,>=3.0 in c:\\users\\nehaja\\anaconda3\\envs\\dev\\lib\\site-packages (from aiohttp==3.7.4->alpaca-trade-api) (3.0.1)\n",
      "Requirement already satisfied: chardet<4.0,>=2.0 in c:\\users\\nehaja\\anaconda3\\envs\\dev\\lib\\site-packages (from aiohttp==3.7.4->alpaca-trade-api) (3.0.4)\n",
      "Requirement already satisfied: yarl<2.0,>=1.0 in c:\\users\\nehaja\\anaconda3\\envs\\dev\\lib\\site-packages (from aiohttp==3.7.4->alpaca-trade-api) (1.6.3)\n",
      "Requirement already satisfied: multidict<7.0,>=4.5 in c:\\users\\nehaja\\anaconda3\\envs\\dev\\lib\\site-packages (from aiohttp==3.7.4->alpaca-trade-api) (5.1.0)\n",
      "Requirement already satisfied: python-dateutil>=2.5.0 in c:\\users\\nehaja\\anaconda3\\envs\\dev\\lib\\site-packages (from pandas>=0.18.1->alpaca-trade-api) (2.8.1)\n",
      "Requirement already satisfied: pytz>=2011k in c:\\users\\nehaja\\anaconda3\\envs\\dev\\lib\\site-packages (from pandas>=0.18.1->alpaca-trade-api) (2021.1)\n",
      "Requirement already satisfied: six>=1.5 in c:\\users\\nehaja\\anaconda3\\envs\\dev\\lib\\site-packages (from python-dateutil>=2.5.0->pandas>=0.18.1->alpaca-trade-api) (1.15.0)\n",
      "Requirement already satisfied: idna<3,>=2.5 in c:\\users\\nehaja\\anaconda3\\envs\\dev\\lib\\site-packages (from requests<3,>2->alpaca-trade-api) (2.10)\n",
      "Requirement already satisfied: certifi>=2017.4.17 in c:\\users\\nehaja\\anaconda3\\envs\\dev\\lib\\site-packages (from requests<3,>2->alpaca-trade-api) (2021.5.30)\n"
     ]
    }
   ],
   "source": [
    "!pip install alpaca-trade-api"
   ]
  },
  {
   "cell_type": "code",
   "execution_count": 109,
   "id": "29c14675",
   "metadata": {},
   "outputs": [],
   "source": [
    "#Import Required Libraries\n",
    "\n",
    "import os\n",
    "import requests\n",
    "import pandas as pd\n",
    "import hvplot.pandas\n",
    "import numpy as np\n",
    "from dotenv import load_dotenv\n",
    "import alpaca_trade_api as tradeapi\n"
   ]
  },
  {
   "cell_type": "code",
   "execution_count": 110,
   "id": "2fbb586a",
   "metadata": {},
   "outputs": [
    {
     "data": {
      "text/plain": [
       "True"
      ]
     },
     "execution_count": 110,
     "metadata": {},
     "output_type": "execute_result"
    }
   ],
   "source": [
    "#Load .env environment variables\n",
    "\n",
    "load_dotenv()"
   ]
  },
  {
   "cell_type": "code",
   "execution_count": 111,
   "id": "62fcf755",
   "metadata": {},
   "outputs": [],
   "source": [
    "# Set Alpaca API Key \n",
    "\n",
    "alpaca_api_key = os.getenv('ALPACA_API_KEY')\n",
    "alpaca_secret_key = os.getenv('ALPACA_SECRET_KEY')\n"
   ]
  },
  {
   "cell_type": "code",
   "execution_count": 112,
   "id": "4df3b5d6",
   "metadata": {},
   "outputs": [],
   "source": [
    "# Creae the API object\n",
    "\n",
    "alpaca = tradeapi.REST(\n",
    "    alpaca_api_key,\n",
    "    alpaca_secret_key,\n",
    "    api_version='V2')\n",
    "    "
   ]
  },
  {
   "cell_type": "code",
   "execution_count": 113,
   "id": "2aaf64b0",
   "metadata": {},
   "outputs": [],
   "source": [
    "# Format current date as ISO format\n",
    "\n",
    "start_date = pd.Timestamp('2010-01-01', tz='America/New_York').isoformat()\n",
    "end_date= pd.Timestamp('2021-09-01', tz='America/New_York').isoformat()\n",
    "\n",
    "\n",
    "# Set the tickers \n",
    "\n",
    "SPY = ['SPY']\n",
    "QQQ = ['QQQ']\n",
    "AAPL = ['AAPL']\n",
    "NVDA = ['NVDA']\n",
    "TWTR = ['TWTR']\n",
    "\n",
    "    "
   ]
  },
  {
   "cell_type": "code",
   "execution_count": 114,
   "id": "86fdaa02",
   "metadata": {},
   "outputs": [
    {
     "data": {
      "text/html": [
       "<div>\n",
       "<style scoped>\n",
       "    .dataframe tbody tr th:only-of-type {\n",
       "        vertical-align: middle;\n",
       "    }\n",
       "\n",
       "    .dataframe tbody tr th {\n",
       "        vertical-align: top;\n",
       "    }\n",
       "\n",
       "    .dataframe thead tr th {\n",
       "        text-align: left;\n",
       "    }\n",
       "\n",
       "    .dataframe thead tr:last-of-type th {\n",
       "        text-align: right;\n",
       "    }\n",
       "</style>\n",
       "<table border=\"1\" class=\"dataframe\">\n",
       "  <thead>\n",
       "    <tr>\n",
       "      <th></th>\n",
       "      <th colspan=\"5\" halign=\"left\">SPY</th>\n",
       "    </tr>\n",
       "    <tr>\n",
       "      <th></th>\n",
       "      <th>open</th>\n",
       "      <th>high</th>\n",
       "      <th>low</th>\n",
       "      <th>close</th>\n",
       "      <th>volume</th>\n",
       "    </tr>\n",
       "    <tr>\n",
       "      <th>time</th>\n",
       "      <th></th>\n",
       "      <th></th>\n",
       "      <th></th>\n",
       "      <th></th>\n",
       "      <th></th>\n",
       "    </tr>\n",
       "  </thead>\n",
       "  <tbody>\n",
       "    <tr>\n",
       "      <th>2021-07-19 14:00:00-04:00</th>\n",
       "      <td>422.20</td>\n",
       "      <td>423.110</td>\n",
       "      <td>422.20</td>\n",
       "      <td>422.78</td>\n",
       "      <td>51481</td>\n",
       "    </tr>\n",
       "    <tr>\n",
       "      <th>2021-07-19 14:15:00-04:00</th>\n",
       "      <td>422.81</td>\n",
       "      <td>423.400</td>\n",
       "      <td>422.68</td>\n",
       "      <td>423.28</td>\n",
       "      <td>57938</td>\n",
       "    </tr>\n",
       "    <tr>\n",
       "      <th>2021-07-19 14:30:00-04:00</th>\n",
       "      <td>423.18</td>\n",
       "      <td>423.190</td>\n",
       "      <td>422.04</td>\n",
       "      <td>422.12</td>\n",
       "      <td>92180</td>\n",
       "    </tr>\n",
       "    <tr>\n",
       "      <th>2021-07-19 14:45:00-04:00</th>\n",
       "      <td>422.16</td>\n",
       "      <td>422.985</td>\n",
       "      <td>422.00</td>\n",
       "      <td>422.40</td>\n",
       "      <td>93611</td>\n",
       "    </tr>\n",
       "    <tr>\n",
       "      <th>2021-07-19 15:00:00-04:00</th>\n",
       "      <td>422.30</td>\n",
       "      <td>423.470</td>\n",
       "      <td>422.21</td>\n",
       "      <td>423.00</td>\n",
       "      <td>99272</td>\n",
       "    </tr>\n",
       "  </tbody>\n",
       "</table>\n",
       "</div>"
      ],
      "text/plain": [
       "                              SPY                                \n",
       "                             open     high     low   close volume\n",
       "time                                                             \n",
       "2021-07-19 14:00:00-04:00  422.20  423.110  422.20  422.78  51481\n",
       "2021-07-19 14:15:00-04:00  422.81  423.400  422.68  423.28  57938\n",
       "2021-07-19 14:30:00-04:00  423.18  423.190  422.04  422.12  92180\n",
       "2021-07-19 14:45:00-04:00  422.16  422.985  422.00  422.40  93611\n",
       "2021-07-19 15:00:00-04:00  422.30  423.470  422.21  423.00  99272"
      ]
     },
     "metadata": {},
     "output_type": "display_data"
    },
    {
     "data": {
      "text/html": [
       "<div>\n",
       "<style scoped>\n",
       "    .dataframe tbody tr th:only-of-type {\n",
       "        vertical-align: middle;\n",
       "    }\n",
       "\n",
       "    .dataframe tbody tr th {\n",
       "        vertical-align: top;\n",
       "    }\n",
       "\n",
       "    .dataframe thead tr th {\n",
       "        text-align: left;\n",
       "    }\n",
       "\n",
       "    .dataframe thead tr:last-of-type th {\n",
       "        text-align: right;\n",
       "    }\n",
       "</style>\n",
       "<table border=\"1\" class=\"dataframe\">\n",
       "  <thead>\n",
       "    <tr>\n",
       "      <th></th>\n",
       "      <th colspan=\"5\" halign=\"left\">SPY</th>\n",
       "    </tr>\n",
       "    <tr>\n",
       "      <th></th>\n",
       "      <th>open</th>\n",
       "      <th>high</th>\n",
       "      <th>low</th>\n",
       "      <th>close</th>\n",
       "      <th>volume</th>\n",
       "    </tr>\n",
       "    <tr>\n",
       "      <th>time</th>\n",
       "      <th></th>\n",
       "      <th></th>\n",
       "      <th></th>\n",
       "      <th></th>\n",
       "      <th></th>\n",
       "    </tr>\n",
       "  </thead>\n",
       "  <tbody>\n",
       "    <tr>\n",
       "      <th>2021-08-31 15:30:00-04:00</th>\n",
       "      <td>451.27</td>\n",
       "      <td>451.730</td>\n",
       "      <td>451.19</td>\n",
       "      <td>451.73</td>\n",
       "      <td>106889</td>\n",
       "    </tr>\n",
       "    <tr>\n",
       "      <th>2021-08-31 15:45:00-04:00</th>\n",
       "      <td>451.73</td>\n",
       "      <td>451.945</td>\n",
       "      <td>451.37</td>\n",
       "      <td>451.61</td>\n",
       "      <td>132775</td>\n",
       "    </tr>\n",
       "    <tr>\n",
       "      <th>2021-08-31 16:00:00-04:00</th>\n",
       "      <td>451.69</td>\n",
       "      <td>452.250</td>\n",
       "      <td>451.69</td>\n",
       "      <td>452.23</td>\n",
       "      <td>9968</td>\n",
       "    </tr>\n",
       "    <tr>\n",
       "      <th>2021-08-31 16:15:00-04:00</th>\n",
       "      <td>452.23</td>\n",
       "      <td>452.250</td>\n",
       "      <td>452.18</td>\n",
       "      <td>452.25</td>\n",
       "      <td>2500</td>\n",
       "    </tr>\n",
       "    <tr>\n",
       "      <th>2021-08-31 16:45:00-04:00</th>\n",
       "      <td>452.42</td>\n",
       "      <td>452.420</td>\n",
       "      <td>452.42</td>\n",
       "      <td>452.42</td>\n",
       "      <td>500</td>\n",
       "    </tr>\n",
       "  </tbody>\n",
       "</table>\n",
       "</div>"
      ],
      "text/plain": [
       "                              SPY                                 \n",
       "                             open     high     low   close  volume\n",
       "time                                                              \n",
       "2021-08-31 15:30:00-04:00  451.27  451.730  451.19  451.73  106889\n",
       "2021-08-31 15:45:00-04:00  451.73  451.945  451.37  451.61  132775\n",
       "2021-08-31 16:00:00-04:00  451.69  452.250  451.69  452.23    9968\n",
       "2021-08-31 16:15:00-04:00  452.23  452.250  452.18  452.25    2500\n",
       "2021-08-31 16:45:00-04:00  452.42  452.420  452.42  452.42     500"
      ]
     },
     "metadata": {},
     "output_type": "display_data"
    }
   ],
   "source": [
    "# Set timeframe to one day ('1D') for the Alpaca API\n",
    "timeframe = '15Min'\n",
    "\n",
    "# Get current closing prices for SPY\n",
    "\n",
    "SPY_df = alpaca.get_barset(\n",
    "    SPY,\n",
    "    timeframe,\n",
    "    start = start_date,\n",
    "    end = end_date,\n",
    "    limit=1000\n",
    ").df\n",
    "\n",
    "# Display SPY df \n",
    "\n",
    "display(SPY_df.head())\n",
    "display(SPY_df.tail())"
   ]
  },
  {
   "cell_type": "code",
   "execution_count": 115,
   "id": "86c4e2f4",
   "metadata": {},
   "outputs": [
    {
     "data": {
      "text/html": [
       "<div>\n",
       "<style scoped>\n",
       "    .dataframe tbody tr th:only-of-type {\n",
       "        vertical-align: middle;\n",
       "    }\n",
       "\n",
       "    .dataframe tbody tr th {\n",
       "        vertical-align: top;\n",
       "    }\n",
       "\n",
       "    .dataframe thead th {\n",
       "        text-align: right;\n",
       "    }\n",
       "</style>\n",
       "<table border=\"1\" class=\"dataframe\">\n",
       "  <thead>\n",
       "    <tr style=\"text-align: right;\">\n",
       "      <th></th>\n",
       "      <th>close</th>\n",
       "    </tr>\n",
       "    <tr>\n",
       "      <th>time</th>\n",
       "      <th></th>\n",
       "    </tr>\n",
       "  </thead>\n",
       "  <tbody>\n",
       "    <tr>\n",
       "      <th>2021-07-19 14:00:00-04:00</th>\n",
       "      <td>422.78</td>\n",
       "    </tr>\n",
       "    <tr>\n",
       "      <th>2021-07-19 14:15:00-04:00</th>\n",
       "      <td>423.28</td>\n",
       "    </tr>\n",
       "    <tr>\n",
       "      <th>2021-07-19 14:30:00-04:00</th>\n",
       "      <td>422.12</td>\n",
       "    </tr>\n",
       "    <tr>\n",
       "      <th>2021-07-19 14:45:00-04:00</th>\n",
       "      <td>422.40</td>\n",
       "    </tr>\n",
       "    <tr>\n",
       "      <th>2021-07-19 15:00:00-04:00</th>\n",
       "      <td>423.00</td>\n",
       "    </tr>\n",
       "  </tbody>\n",
       "</table>\n",
       "</div>"
      ],
      "text/plain": [
       "                            close\n",
       "time                             \n",
       "2021-07-19 14:00:00-04:00  422.78\n",
       "2021-07-19 14:15:00-04:00  423.28\n",
       "2021-07-19 14:30:00-04:00  422.12\n",
       "2021-07-19 14:45:00-04:00  422.40\n",
       "2021-07-19 15:00:00-04:00  423.00"
      ]
     },
     "metadata": {},
     "output_type": "display_data"
    },
    {
     "data": {
      "text/html": [
       "<div>\n",
       "<style scoped>\n",
       "    .dataframe tbody tr th:only-of-type {\n",
       "        vertical-align: middle;\n",
       "    }\n",
       "\n",
       "    .dataframe tbody tr th {\n",
       "        vertical-align: top;\n",
       "    }\n",
       "\n",
       "    .dataframe thead th {\n",
       "        text-align: right;\n",
       "    }\n",
       "</style>\n",
       "<table border=\"1\" class=\"dataframe\">\n",
       "  <thead>\n",
       "    <tr style=\"text-align: right;\">\n",
       "      <th></th>\n",
       "      <th>close</th>\n",
       "    </tr>\n",
       "    <tr>\n",
       "      <th>time</th>\n",
       "      <th></th>\n",
       "    </tr>\n",
       "  </thead>\n",
       "  <tbody>\n",
       "    <tr>\n",
       "      <th>2021-08-31 15:30:00-04:00</th>\n",
       "      <td>451.73</td>\n",
       "    </tr>\n",
       "    <tr>\n",
       "      <th>2021-08-31 15:45:00-04:00</th>\n",
       "      <td>451.61</td>\n",
       "    </tr>\n",
       "    <tr>\n",
       "      <th>2021-08-31 16:00:00-04:00</th>\n",
       "      <td>452.23</td>\n",
       "    </tr>\n",
       "    <tr>\n",
       "      <th>2021-08-31 16:15:00-04:00</th>\n",
       "      <td>452.25</td>\n",
       "    </tr>\n",
       "    <tr>\n",
       "      <th>2021-08-31 16:45:00-04:00</th>\n",
       "      <td>452.42</td>\n",
       "    </tr>\n",
       "  </tbody>\n",
       "</table>\n",
       "</div>"
      ],
      "text/plain": [
       "                            close\n",
       "time                             \n",
       "2021-08-31 15:30:00-04:00  451.73\n",
       "2021-08-31 15:45:00-04:00  451.61\n",
       "2021-08-31 16:00:00-04:00  452.23\n",
       "2021-08-31 16:15:00-04:00  452.25\n",
       "2021-08-31 16:45:00-04:00  452.42"
      ]
     },
     "metadata": {},
     "output_type": "display_data"
    }
   ],
   "source": [
    "# Create df for SPY closing prices\n",
    "\n",
    "SPY_close = pd.DataFrame()\n",
    "\n",
    "SPY_close['close'] = SPY_df['SPY']['close']\n",
    "\n",
    "# Drop the time component of the date\n",
    "\n",
    "# SPY_close.index = SPY_close.index.time\n",
    "\n",
    "# Review SPY DF\n",
    "\n",
    "display(SPY_close.head())\n",
    "display(SPY_close.tail())\n"
   ]
  },
  {
   "cell_type": "code",
   "execution_count": 116,
   "id": "0b43cfd5",
   "metadata": {},
   "outputs": [
    {
     "data": {
      "text/html": [
       "<div>\n",
       "<style scoped>\n",
       "    .dataframe tbody tr th:only-of-type {\n",
       "        vertical-align: middle;\n",
       "    }\n",
       "\n",
       "    .dataframe tbody tr th {\n",
       "        vertical-align: top;\n",
       "    }\n",
       "\n",
       "    .dataframe thead th {\n",
       "        text-align: right;\n",
       "    }\n",
       "</style>\n",
       "<table border=\"1\" class=\"dataframe\">\n",
       "  <thead>\n",
       "    <tr style=\"text-align: right;\">\n",
       "      <th></th>\n",
       "      <th>close</th>\n",
       "      <th>returns</th>\n",
       "    </tr>\n",
       "    <tr>\n",
       "      <th>time</th>\n",
       "      <th></th>\n",
       "      <th></th>\n",
       "    </tr>\n",
       "  </thead>\n",
       "  <tbody>\n",
       "    <tr>\n",
       "      <th>2021-07-19 14:15:00-04:00</th>\n",
       "      <td>423.28</td>\n",
       "      <td>0.001183</td>\n",
       "    </tr>\n",
       "    <tr>\n",
       "      <th>2021-07-19 14:30:00-04:00</th>\n",
       "      <td>422.12</td>\n",
       "      <td>-0.002741</td>\n",
       "    </tr>\n",
       "    <tr>\n",
       "      <th>2021-07-19 14:45:00-04:00</th>\n",
       "      <td>422.40</td>\n",
       "      <td>0.000663</td>\n",
       "    </tr>\n",
       "    <tr>\n",
       "      <th>2021-07-19 15:00:00-04:00</th>\n",
       "      <td>423.00</td>\n",
       "      <td>0.001420</td>\n",
       "    </tr>\n",
       "    <tr>\n",
       "      <th>2021-07-19 15:15:00-04:00</th>\n",
       "      <td>422.38</td>\n",
       "      <td>-0.001466</td>\n",
       "    </tr>\n",
       "  </tbody>\n",
       "</table>\n",
       "</div>"
      ],
      "text/plain": [
       "                            close   returns\n",
       "time                                       \n",
       "2021-07-19 14:15:00-04:00  423.28  0.001183\n",
       "2021-07-19 14:30:00-04:00  422.12 -0.002741\n",
       "2021-07-19 14:45:00-04:00  422.40  0.000663\n",
       "2021-07-19 15:00:00-04:00  423.00  0.001420\n",
       "2021-07-19 15:15:00-04:00  422.38 -0.001466"
      ]
     },
     "execution_count": 116,
     "metadata": {},
     "output_type": "execute_result"
    }
   ],
   "source": [
    "SPY_signals = pd.DataFrame()\n",
    "\n",
    "\n",
    "SPY_signals['close'] = SPY_close['close']\n",
    "SPY_signals['returns'] = SPY_close['close'].pct_change()\n",
    "\n",
    "SPY_signals = SPY_signals.dropna()\n",
    "\n",
    "SPY_signals.head()"
   ]
  },
  {
   "cell_type": "code",
   "execution_count": 117,
   "id": "0d3d7da5",
   "metadata": {},
   "outputs": [
    {
     "data": {
      "text/html": [
       "<div>\n",
       "<style scoped>\n",
       "    .dataframe tbody tr th:only-of-type {\n",
       "        vertical-align: middle;\n",
       "    }\n",
       "\n",
       "    .dataframe tbody tr th {\n",
       "        vertical-align: top;\n",
       "    }\n",
       "\n",
       "    .dataframe thead th {\n",
       "        text-align: right;\n",
       "    }\n",
       "</style>\n",
       "<table border=\"1\" class=\"dataframe\">\n",
       "  <thead>\n",
       "    <tr style=\"text-align: right;\">\n",
       "      <th></th>\n",
       "      <th>close</th>\n",
       "      <th>returns</th>\n",
       "      <th>SMA_Fast</th>\n",
       "      <th>SMA_Slow</th>\n",
       "    </tr>\n",
       "    <tr>\n",
       "      <th>time</th>\n",
       "      <th></th>\n",
       "      <th></th>\n",
       "      <th></th>\n",
       "      <th></th>\n",
       "    </tr>\n",
       "  </thead>\n",
       "  <tbody>\n",
       "    <tr>\n",
       "      <th>2021-07-19 16:15:00-04:00</th>\n",
       "      <td>425.14</td>\n",
       "      <td>0.000282</td>\n",
       "      <td>424.920000</td>\n",
       "      <td>423.424444</td>\n",
       "    </tr>\n",
       "    <tr>\n",
       "      <th>2021-07-19 16:30:00-04:00</th>\n",
       "      <td>425.29</td>\n",
       "      <td>0.000353</td>\n",
       "      <td>425.150000</td>\n",
       "      <td>423.647778</td>\n",
       "    </tr>\n",
       "    <tr>\n",
       "      <th>2021-07-20 08:00:00-04:00</th>\n",
       "      <td>426.80</td>\n",
       "      <td>0.003551</td>\n",
       "      <td>425.743333</td>\n",
       "      <td>424.167778</td>\n",
       "    </tr>\n",
       "    <tr>\n",
       "      <th>2021-07-20 08:15:00-04:00</th>\n",
       "      <td>426.68</td>\n",
       "      <td>-0.000281</td>\n",
       "      <td>426.256667</td>\n",
       "      <td>424.643333</td>\n",
       "    </tr>\n",
       "    <tr>\n",
       "      <th>2021-07-20 08:30:00-04:00</th>\n",
       "      <td>426.38</td>\n",
       "      <td>-0.000703</td>\n",
       "      <td>426.620000</td>\n",
       "      <td>425.018889</td>\n",
       "    </tr>\n",
       "  </tbody>\n",
       "</table>\n",
       "</div>"
      ],
      "text/plain": [
       "                            close   returns    SMA_Fast    SMA_Slow\n",
       "time                                                               \n",
       "2021-07-19 16:15:00-04:00  425.14  0.000282  424.920000  423.424444\n",
       "2021-07-19 16:30:00-04:00  425.29  0.000353  425.150000  423.647778\n",
       "2021-07-20 08:00:00-04:00  426.80  0.003551  425.743333  424.167778\n",
       "2021-07-20 08:15:00-04:00  426.68 -0.000281  426.256667  424.643333\n",
       "2021-07-20 08:30:00-04:00  426.38 -0.000703  426.620000  425.018889"
      ]
     },
     "metadata": {},
     "output_type": "display_data"
    },
    {
     "data": {
      "text/html": [
       "<div>\n",
       "<style scoped>\n",
       "    .dataframe tbody tr th:only-of-type {\n",
       "        vertical-align: middle;\n",
       "    }\n",
       "\n",
       "    .dataframe tbody tr th {\n",
       "        vertical-align: top;\n",
       "    }\n",
       "\n",
       "    .dataframe thead th {\n",
       "        text-align: right;\n",
       "    }\n",
       "</style>\n",
       "<table border=\"1\" class=\"dataframe\">\n",
       "  <thead>\n",
       "    <tr style=\"text-align: right;\">\n",
       "      <th></th>\n",
       "      <th>close</th>\n",
       "      <th>returns</th>\n",
       "      <th>SMA_Fast</th>\n",
       "      <th>SMA_Slow</th>\n",
       "    </tr>\n",
       "    <tr>\n",
       "      <th>time</th>\n",
       "      <th></th>\n",
       "      <th></th>\n",
       "      <th></th>\n",
       "      <th></th>\n",
       "    </tr>\n",
       "  </thead>\n",
       "  <tbody>\n",
       "    <tr>\n",
       "      <th>2021-08-31 15:30:00-04:00</th>\n",
       "      <td>451.73</td>\n",
       "      <td>0.000997</td>\n",
       "      <td>451.481667</td>\n",
       "      <td>451.628889</td>\n",
       "    </tr>\n",
       "    <tr>\n",
       "      <th>2021-08-31 15:45:00-04:00</th>\n",
       "      <td>451.61</td>\n",
       "      <td>-0.000266</td>\n",
       "      <td>451.540000</td>\n",
       "      <td>451.619444</td>\n",
       "    </tr>\n",
       "    <tr>\n",
       "      <th>2021-08-31 16:00:00-04:00</th>\n",
       "      <td>452.23</td>\n",
       "      <td>0.001373</td>\n",
       "      <td>451.856667</td>\n",
       "      <td>451.660556</td>\n",
       "    </tr>\n",
       "    <tr>\n",
       "      <th>2021-08-31 16:15:00-04:00</th>\n",
       "      <td>452.25</td>\n",
       "      <td>0.000044</td>\n",
       "      <td>452.030000</td>\n",
       "      <td>451.725556</td>\n",
       "    </tr>\n",
       "    <tr>\n",
       "      <th>2021-08-31 16:45:00-04:00</th>\n",
       "      <td>452.42</td>\n",
       "      <td>0.000376</td>\n",
       "      <td>452.300000</td>\n",
       "      <td>451.816667</td>\n",
       "    </tr>\n",
       "  </tbody>\n",
       "</table>\n",
       "</div>"
      ],
      "text/plain": [
       "                            close   returns    SMA_Fast    SMA_Slow\n",
       "time                                                               \n",
       "2021-08-31 15:30:00-04:00  451.73  0.000997  451.481667  451.628889\n",
       "2021-08-31 15:45:00-04:00  451.61 -0.000266  451.540000  451.619444\n",
       "2021-08-31 16:00:00-04:00  452.23  0.001373  451.856667  451.660556\n",
       "2021-08-31 16:15:00-04:00  452.25  0.000044  452.030000  451.725556\n",
       "2021-08-31 16:45:00-04:00  452.42  0.000376  452.300000  451.816667"
      ]
     },
     "metadata": {},
     "output_type": "display_data"
    }
   ],
   "source": [
    "# Set the short window and long window\n",
    "short_window = 3\n",
    "long_window = 9\n",
    "\n",
    "# Generate the fast and slow simple moving averages \n",
    "SPY_signals['SMA_Fast'] = SPY_signals['close'].rolling(window=short_window).mean()\n",
    "SPY_signals['SMA_Slow'] = SPY_signals['close'].rolling(window=long_window).mean()\n",
    "\n",
    "SPY_signals = SPY_signals.dropna()\n",
    "\n",
    "# Review the DataFrame\n",
    "display(SPY_signals.head())\n",
    "display(SPY_signals.tail())\n",
    "\n",
    "SPY_signals[\"signal\"] = 0.0"
   ]
  },
  {
   "cell_type": "code",
   "execution_count": 118,
   "id": "a82bbc29",
   "metadata": {},
   "outputs": [
    {
     "data": {
      "text/html": [
       "<div>\n",
       "<style scoped>\n",
       "    .dataframe tbody tr th:only-of-type {\n",
       "        vertical-align: middle;\n",
       "    }\n",
       "\n",
       "    .dataframe tbody tr th {\n",
       "        vertical-align: top;\n",
       "    }\n",
       "\n",
       "    .dataframe thead th {\n",
       "        text-align: right;\n",
       "    }\n",
       "</style>\n",
       "<table border=\"1\" class=\"dataframe\">\n",
       "  <thead>\n",
       "    <tr style=\"text-align: right;\">\n",
       "      <th></th>\n",
       "      <th>close</th>\n",
       "      <th>returns</th>\n",
       "      <th>SMA_Fast</th>\n",
       "      <th>SMA_Slow</th>\n",
       "      <th>signal</th>\n",
       "    </tr>\n",
       "    <tr>\n",
       "      <th>time</th>\n",
       "      <th></th>\n",
       "      <th></th>\n",
       "      <th></th>\n",
       "      <th></th>\n",
       "      <th></th>\n",
       "    </tr>\n",
       "  </thead>\n",
       "  <tbody>\n",
       "    <tr>\n",
       "      <th>2021-08-31 14:15:00-04:00</th>\n",
       "      <td>451.600</td>\n",
       "      <td>-0.000144</td>\n",
       "      <td>451.708333</td>\n",
       "      <td>451.947778</td>\n",
       "      <td>1.0</td>\n",
       "    </tr>\n",
       "    <tr>\n",
       "      <th>2021-08-31 14:30:00-04:00</th>\n",
       "      <td>451.555</td>\n",
       "      <td>-0.000100</td>\n",
       "      <td>451.606667</td>\n",
       "      <td>451.847222</td>\n",
       "      <td>1.0</td>\n",
       "    </tr>\n",
       "    <tr>\n",
       "      <th>2021-08-31 14:45:00-04:00</th>\n",
       "      <td>451.840</td>\n",
       "      <td>0.000631</td>\n",
       "      <td>451.665000</td>\n",
       "      <td>451.787222</td>\n",
       "      <td>1.0</td>\n",
       "    </tr>\n",
       "    <tr>\n",
       "      <th>2021-08-31 15:00:00-04:00</th>\n",
       "      <td>451.435</td>\n",
       "      <td>-0.000896</td>\n",
       "      <td>451.610000</td>\n",
       "      <td>451.694444</td>\n",
       "      <td>1.0</td>\n",
       "    </tr>\n",
       "    <tr>\n",
       "      <th>2021-08-31 15:15:00-04:00</th>\n",
       "      <td>451.280</td>\n",
       "      <td>-0.000343</td>\n",
       "      <td>451.518333</td>\n",
       "      <td>451.612222</td>\n",
       "      <td>1.0</td>\n",
       "    </tr>\n",
       "    <tr>\n",
       "      <th>2021-08-31 15:30:00-04:00</th>\n",
       "      <td>451.730</td>\n",
       "      <td>0.000997</td>\n",
       "      <td>451.481667</td>\n",
       "      <td>451.628889</td>\n",
       "      <td>1.0</td>\n",
       "    </tr>\n",
       "    <tr>\n",
       "      <th>2021-08-31 15:45:00-04:00</th>\n",
       "      <td>451.610</td>\n",
       "      <td>-0.000266</td>\n",
       "      <td>451.540000</td>\n",
       "      <td>451.619444</td>\n",
       "      <td>1.0</td>\n",
       "    </tr>\n",
       "    <tr>\n",
       "      <th>2021-08-31 16:00:00-04:00</th>\n",
       "      <td>452.230</td>\n",
       "      <td>0.001373</td>\n",
       "      <td>451.856667</td>\n",
       "      <td>451.660556</td>\n",
       "      <td>0.0</td>\n",
       "    </tr>\n",
       "    <tr>\n",
       "      <th>2021-08-31 16:15:00-04:00</th>\n",
       "      <td>452.250</td>\n",
       "      <td>0.000044</td>\n",
       "      <td>452.030000</td>\n",
       "      <td>451.725556</td>\n",
       "      <td>0.0</td>\n",
       "    </tr>\n",
       "    <tr>\n",
       "      <th>2021-08-31 16:45:00-04:00</th>\n",
       "      <td>452.420</td>\n",
       "      <td>0.000376</td>\n",
       "      <td>452.300000</td>\n",
       "      <td>451.816667</td>\n",
       "      <td>0.0</td>\n",
       "    </tr>\n",
       "  </tbody>\n",
       "</table>\n",
       "</div>"
      ],
      "text/plain": [
       "                             close   returns    SMA_Fast    SMA_Slow  signal\n",
       "time                                                                        \n",
       "2021-08-31 14:15:00-04:00  451.600 -0.000144  451.708333  451.947778     1.0\n",
       "2021-08-31 14:30:00-04:00  451.555 -0.000100  451.606667  451.847222     1.0\n",
       "2021-08-31 14:45:00-04:00  451.840  0.000631  451.665000  451.787222     1.0\n",
       "2021-08-31 15:00:00-04:00  451.435 -0.000896  451.610000  451.694444     1.0\n",
       "2021-08-31 15:15:00-04:00  451.280 -0.000343  451.518333  451.612222     1.0\n",
       "2021-08-31 15:30:00-04:00  451.730  0.000997  451.481667  451.628889     1.0\n",
       "2021-08-31 15:45:00-04:00  451.610 -0.000266  451.540000  451.619444     1.0\n",
       "2021-08-31 16:00:00-04:00  452.230  0.001373  451.856667  451.660556     0.0\n",
       "2021-08-31 16:15:00-04:00  452.250  0.000044  452.030000  451.725556     0.0\n",
       "2021-08-31 16:45:00-04:00  452.420  0.000376  452.300000  451.816667     0.0"
      ]
     },
     "execution_count": 118,
     "metadata": {},
     "output_type": "execute_result"
    }
   ],
   "source": [
    "# Generate the trading signal 0 or 1,\n",
    "# where 1 is the short-window (SMA50) greater than the long-window (SMA100)\n",
    "# and 0 is when the condition is not met\n",
    "SPY_signals[\"signal\"][short_window:] = np.where(\n",
    "    SPY_signals[\"SMA_Slow\"][short_window:] > SPY_signals[\"SMA_Fast\"][short_window:], 1.0, 0.0\n",
    ")\n",
    "\n",
    "# Review the DataFrame\n",
    "SPY_signals.tail(10)"
   ]
  },
  {
   "cell_type": "code",
   "execution_count": 119,
   "id": "b1dbdf78",
   "metadata": {},
   "outputs": [],
   "source": [
    "# Initialize the new Signal column\n",
    "# SPY_signals['signal'] = 0.0\n",
    "\n",
    "# When Actual Returns are greater than or equal to 0, generate signal to buy stock long\n",
    "#SPY_signals.loc[(SPY_signals['returns'] >= 0), 'signal'] = 1\n",
    "\n",
    "# When Actual Returns are less than 0, generate signal to hold \n",
    "# SPY_signals.loc[(SPY_signals['returns'] < 0), 'signal'] = 1\n",
    "\n",
    "# Review the DataFrame\n",
    "#display(SPY_signals.head())\n",
    "# display(SPY_signals.tail())"
   ]
  },
  {
   "cell_type": "code",
   "execution_count": 120,
   "id": "5b10219e",
   "metadata": {},
   "outputs": [
    {
     "data": {
      "text/plain": [
       "0.0    582\n",
       "1.0    409\n",
       "Name: signal, dtype: int64"
      ]
     },
     "execution_count": 120,
     "metadata": {},
     "output_type": "execute_result"
    }
   ],
   "source": [
    "# Initiate the value count\n",
    "\n",
    "SPY_signals['signal'].value_counts()"
   ]
  },
  {
   "cell_type": "code",
   "execution_count": 121,
   "id": "292cb0de",
   "metadata": {
    "tags": []
   },
   "outputs": [
    {
     "data": {
      "text/html": [
       "<div>\n",
       "<style scoped>\n",
       "    .dataframe tbody tr th:only-of-type {\n",
       "        vertical-align: middle;\n",
       "    }\n",
       "\n",
       "    .dataframe tbody tr th {\n",
       "        vertical-align: top;\n",
       "    }\n",
       "\n",
       "    .dataframe thead th {\n",
       "        text-align: right;\n",
       "    }\n",
       "</style>\n",
       "<table border=\"1\" class=\"dataframe\">\n",
       "  <thead>\n",
       "    <tr style=\"text-align: right;\">\n",
       "      <th></th>\n",
       "      <th>close</th>\n",
       "      <th>returns</th>\n",
       "      <th>SMA_Fast</th>\n",
       "      <th>SMA_Slow</th>\n",
       "      <th>signal</th>\n",
       "      <th>strategy returns</th>\n",
       "    </tr>\n",
       "    <tr>\n",
       "      <th>time</th>\n",
       "      <th></th>\n",
       "      <th></th>\n",
       "      <th></th>\n",
       "      <th></th>\n",
       "      <th></th>\n",
       "      <th></th>\n",
       "    </tr>\n",
       "  </thead>\n",
       "  <tbody>\n",
       "    <tr>\n",
       "      <th>2021-07-19 16:15:00-04:00</th>\n",
       "      <td>425.14</td>\n",
       "      <td>0.000282</td>\n",
       "      <td>424.920000</td>\n",
       "      <td>423.424444</td>\n",
       "      <td>0.0</td>\n",
       "      <td>NaN</td>\n",
       "    </tr>\n",
       "    <tr>\n",
       "      <th>2021-07-19 16:30:00-04:00</th>\n",
       "      <td>425.29</td>\n",
       "      <td>0.000353</td>\n",
       "      <td>425.150000</td>\n",
       "      <td>423.647778</td>\n",
       "      <td>0.0</td>\n",
       "      <td>0.0</td>\n",
       "    </tr>\n",
       "    <tr>\n",
       "      <th>2021-07-20 08:00:00-04:00</th>\n",
       "      <td>426.80</td>\n",
       "      <td>0.003551</td>\n",
       "      <td>425.743333</td>\n",
       "      <td>424.167778</td>\n",
       "      <td>0.0</td>\n",
       "      <td>0.0</td>\n",
       "    </tr>\n",
       "    <tr>\n",
       "      <th>2021-07-20 08:15:00-04:00</th>\n",
       "      <td>426.68</td>\n",
       "      <td>-0.000281</td>\n",
       "      <td>426.256667</td>\n",
       "      <td>424.643333</td>\n",
       "      <td>0.0</td>\n",
       "      <td>-0.0</td>\n",
       "    </tr>\n",
       "    <tr>\n",
       "      <th>2021-07-20 08:30:00-04:00</th>\n",
       "      <td>426.38</td>\n",
       "      <td>-0.000703</td>\n",
       "      <td>426.620000</td>\n",
       "      <td>425.018889</td>\n",
       "      <td>0.0</td>\n",
       "      <td>-0.0</td>\n",
       "    </tr>\n",
       "  </tbody>\n",
       "</table>\n",
       "</div>"
      ],
      "text/plain": [
       "                            close   returns    SMA_Fast    SMA_Slow  signal  \\\n",
       "time                                                                          \n",
       "2021-07-19 16:15:00-04:00  425.14  0.000282  424.920000  423.424444     0.0   \n",
       "2021-07-19 16:30:00-04:00  425.29  0.000353  425.150000  423.647778     0.0   \n",
       "2021-07-20 08:00:00-04:00  426.80  0.003551  425.743333  424.167778     0.0   \n",
       "2021-07-20 08:15:00-04:00  426.68 -0.000281  426.256667  424.643333     0.0   \n",
       "2021-07-20 08:30:00-04:00  426.38 -0.000703  426.620000  425.018889     0.0   \n",
       "\n",
       "                           strategy returns  \n",
       "time                                         \n",
       "2021-07-19 16:15:00-04:00               NaN  \n",
       "2021-07-19 16:30:00-04:00               0.0  \n",
       "2021-07-20 08:00:00-04:00               0.0  \n",
       "2021-07-20 08:15:00-04:00              -0.0  \n",
       "2021-07-20 08:30:00-04:00              -0.0  "
      ]
     },
     "metadata": {},
     "output_type": "display_data"
    },
    {
     "data": {
      "text/html": [
       "<div>\n",
       "<style scoped>\n",
       "    .dataframe tbody tr th:only-of-type {\n",
       "        vertical-align: middle;\n",
       "    }\n",
       "\n",
       "    .dataframe tbody tr th {\n",
       "        vertical-align: top;\n",
       "    }\n",
       "\n",
       "    .dataframe thead th {\n",
       "        text-align: right;\n",
       "    }\n",
       "</style>\n",
       "<table border=\"1\" class=\"dataframe\">\n",
       "  <thead>\n",
       "    <tr style=\"text-align: right;\">\n",
       "      <th></th>\n",
       "      <th>close</th>\n",
       "      <th>returns</th>\n",
       "      <th>SMA_Fast</th>\n",
       "      <th>SMA_Slow</th>\n",
       "      <th>signal</th>\n",
       "      <th>strategy returns</th>\n",
       "    </tr>\n",
       "    <tr>\n",
       "      <th>time</th>\n",
       "      <th></th>\n",
       "      <th></th>\n",
       "      <th></th>\n",
       "      <th></th>\n",
       "      <th></th>\n",
       "      <th></th>\n",
       "    </tr>\n",
       "  </thead>\n",
       "  <tbody>\n",
       "    <tr>\n",
       "      <th>2021-08-31 15:30:00-04:00</th>\n",
       "      <td>451.73</td>\n",
       "      <td>0.000997</td>\n",
       "      <td>451.481667</td>\n",
       "      <td>451.628889</td>\n",
       "      <td>1.0</td>\n",
       "      <td>0.000997</td>\n",
       "    </tr>\n",
       "    <tr>\n",
       "      <th>2021-08-31 15:45:00-04:00</th>\n",
       "      <td>451.61</td>\n",
       "      <td>-0.000266</td>\n",
       "      <td>451.540000</td>\n",
       "      <td>451.619444</td>\n",
       "      <td>1.0</td>\n",
       "      <td>-0.000266</td>\n",
       "    </tr>\n",
       "    <tr>\n",
       "      <th>2021-08-31 16:00:00-04:00</th>\n",
       "      <td>452.23</td>\n",
       "      <td>0.001373</td>\n",
       "      <td>451.856667</td>\n",
       "      <td>451.660556</td>\n",
       "      <td>0.0</td>\n",
       "      <td>0.001373</td>\n",
       "    </tr>\n",
       "    <tr>\n",
       "      <th>2021-08-31 16:15:00-04:00</th>\n",
       "      <td>452.25</td>\n",
       "      <td>0.000044</td>\n",
       "      <td>452.030000</td>\n",
       "      <td>451.725556</td>\n",
       "      <td>0.0</td>\n",
       "      <td>0.000000</td>\n",
       "    </tr>\n",
       "    <tr>\n",
       "      <th>2021-08-31 16:45:00-04:00</th>\n",
       "      <td>452.42</td>\n",
       "      <td>0.000376</td>\n",
       "      <td>452.300000</td>\n",
       "      <td>451.816667</td>\n",
       "      <td>0.0</td>\n",
       "      <td>0.000000</td>\n",
       "    </tr>\n",
       "  </tbody>\n",
       "</table>\n",
       "</div>"
      ],
      "text/plain": [
       "                            close   returns    SMA_Fast    SMA_Slow  signal  \\\n",
       "time                                                                          \n",
       "2021-08-31 15:30:00-04:00  451.73  0.000997  451.481667  451.628889     1.0   \n",
       "2021-08-31 15:45:00-04:00  451.61 -0.000266  451.540000  451.619444     1.0   \n",
       "2021-08-31 16:00:00-04:00  452.23  0.001373  451.856667  451.660556     0.0   \n",
       "2021-08-31 16:15:00-04:00  452.25  0.000044  452.030000  451.725556     0.0   \n",
       "2021-08-31 16:45:00-04:00  452.42  0.000376  452.300000  451.816667     0.0   \n",
       "\n",
       "                           strategy returns  \n",
       "time                                         \n",
       "2021-08-31 15:30:00-04:00          0.000997  \n",
       "2021-08-31 15:45:00-04:00         -0.000266  \n",
       "2021-08-31 16:00:00-04:00          0.001373  \n",
       "2021-08-31 16:15:00-04:00          0.000000  \n",
       "2021-08-31 16:45:00-04:00          0.000000  "
      ]
     },
     "metadata": {},
     "output_type": "display_data"
    }
   ],
   "source": [
    "# Calculate the strategy returns and add them to the signals_df DataFrame\n",
    "SPY_signals['strategy returns'] = SPY_signals['returns'] * SPY_signals['signal'].shift()\n",
    "\n",
    "# Review the DataFrame\n",
    "display(SPY_signals.head())\n",
    "display(SPY_signals.tail())"
   ]
  },
  {
   "cell_type": "code",
   "execution_count": 122,
   "id": "c0b22c96",
   "metadata": {},
   "outputs": [
    {
     "data": {},
     "metadata": {},
     "output_type": "display_data"
    },
    {
     "data": {
      "application/vnd.holoviews_exec.v0+json": "",
      "text/html": [
       "<div id='2790'>\n",
       "\n",
       "\n",
       "\n",
       "\n",
       "\n",
       "  <div class=\"bk-root\" id=\"3228e7b6-5245-43a3-b3c1-019cc13d8e77\" data-root-id=\"2790\"></div>\n",
       "</div>\n",
       "<script type=\"application/javascript\">(function(root) {\n",
       "  function embed_document(root) {\n",
       "    var docs_json = {\"b4e943aa-5135-468d-ba60-ee3082c4c349\":{\"defs\":[],\"roots\":{\"references\":[{\"attributes\":{\"children\":[{\"id\":\"2791\"},{\"id\":\"2796\"},{\"id\":\"3115\"}],\"margin\":[0,0,0,0],\"name\":\"Row03427\",\"tags\":[\"embedded\"]},\"id\":\"2790\",\"type\":\"Row\"},{\"attributes\":{\"label\":{\"value\":\"returns\"},\"renderers\":[{\"id\":\"2871\"}]},\"id\":\"2897\",\"type\":\"LegendItem\"},{\"attributes\":{\"data\":{\"Variable\":[\"strategy returns\",\"strategy returns\",\"strategy returns\",\"strategy returns\",\"strategy returns\",\"strategy returns\",\"strategy returns\",\"strategy returns\",\"strategy returns\",\"strategy returns\",\"strategy returns\",\"strategy returns\",\"strategy returns\",\"strategy returns\",\"strategy returns\",\"strategy returns\",\"strategy returns\",\"strategy returns\",\"strategy returns\",\"strategy returns\",\"strategy returns\",\"strategy returns\",\"strategy returns\",\"strategy returns\",\"strategy returns\",\"strategy returns\",\"strategy returns\",\"strategy returns\",\"strategy returns\",\"strategy returns\",\"strategy returns\",\"strategy returns\",\"strategy returns\",\"strategy returns\",\"strategy returns\",\"strategy returns\",\"strategy returns\",\"strategy returns\",\"strategy returns\",\"strategy returns\",\"strategy returns\",\"strategy returns\",\"strategy returns\",\"strategy returns\",\"strategy returns\",\"strategy returns\",\"strategy returns\",\"strategy returns\",\"strategy returns\",\"strategy returns\",\"strategy returns\",\"strategy returns\",\"strategy returns\",\"strategy returns\",\"strategy returns\",\"strategy returns\",\"strategy returns\",\"strategy returns\",\"strategy returns\",\"strategy returns\",\"strategy returns\",\"strategy returns\",\"strategy returns\",\"strategy returns\",\"strategy returns\",\"strategy returns\",\"strategy returns\",\"strategy returns\",\"strategy returns\",\"strategy returns\",\"strategy returns\",\"strategy returns\",\"strategy returns\",\"strategy returns\",\"strategy returns\",\"strategy returns\",\"strategy returns\",\"strategy returns\",\"strategy returns\",\"strategy returns\",\"strategy returns\",\"strategy returns\",\"strategy returns\",\"strategy returns\",\"strategy returns\",\"strategy returns\",\"strategy returns\",\"strategy returns\",\"strategy returns\",\"strategy returns\",\"strategy returns\",\"strategy returns\",\"strategy returns\",\"strategy returns\",\"strategy returns\",\"strategy returns\",\"strategy returns\",\"strategy returns\",\"strategy returns\",\"strategy returns\",\"strategy returns\",\"strategy returns\",\"strategy returns\",\"strategy returns\",\"strategy returns\",\"strategy returns\",\"strategy returns\",\"strategy returns\",\"strategy returns\",\"strategy returns\",\"strategy returns\",\"strategy returns\",\"strategy returns\",\"strategy returns\",\"strategy returns\",\"strategy returns\",\"strategy returns\",\"strategy returns\",\"strategy returns\",\"strategy returns\",\"strategy returns\",\"strategy returns\",\"strategy returns\",\"strategy returns\",\"strategy returns\",\"strategy returns\",\"strategy returns\",\"strategy returns\",\"strategy returns\",\"strategy returns\",\"strategy returns\",\"strategy returns\",\"strategy returns\",\"strategy returns\",\"strategy returns\",\"strategy returns\",\"strategy returns\",\"strategy returns\",\"strategy returns\",\"strategy returns\",\"strategy returns\",\"strategy returns\",\"strategy returns\",\"strategy returns\",\"strategy returns\",\"strategy returns\",\"strategy returns\",\"strategy returns\",\"strategy returns\",\"strategy returns\",\"strategy returns\",\"strategy returns\",\"strategy returns\",\"strategy returns\",\"strategy returns\",\"strategy returns\",\"strategy returns\",\"strategy returns\",\"strategy returns\",\"strategy returns\",\"strategy returns\",\"strategy returns\",\"strategy returns\",\"strategy returns\",\"strategy returns\",\"strategy returns\",\"strategy returns\",\"strategy returns\",\"strategy returns\",\"strategy returns\",\"strategy returns\",\"strategy returns\",\"strategy returns\",\"strategy returns\",\"strategy returns\",\"strategy returns\",\"strategy returns\",\"strategy returns\",\"strategy returns\",\"strategy returns\",\"strategy returns\",\"strategy returns\",\"strategy returns\",\"strategy returns\",\"strategy returns\",\"strategy returns\",\"strategy returns\",\"strategy returns\",\"strategy returns\",\"strategy returns\",\"strategy returns\",\"strategy returns\",\"strategy returns\",\"strategy returns\",\"strategy returns\",\"strategy returns\",\"strategy returns\",\"strategy returns\",\"strategy returns\",\"strategy returns\",\"strategy returns\",\"strategy returns\",\"strategy returns\",\"strategy returns\",\"strategy returns\",\"strategy returns\",\"strategy returns\",\"strategy returns\",\"strategy returns\",\"strategy returns\",\"strategy returns\",\"strategy returns\",\"strategy returns\",\"strategy returns\",\"strategy returns\",\"strategy returns\",\"strategy returns\",\"strategy returns\",\"strategy returns\",\"strategy returns\",\"strategy returns\",\"strategy returns\",\"strategy returns\",\"strategy returns\",\"strategy returns\",\"strategy returns\",\"strategy returns\",\"strategy returns\",\"strategy returns\",\"strategy returns\",\"strategy returns\",\"strategy returns\",\"strategy returns\",\"strategy returns\",\"strategy returns\",\"strategy returns\",\"strategy returns\",\"strategy returns\",\"strategy returns\",\"strategy returns\",\"strategy returns\",\"strategy returns\",\"strategy returns\",\"strategy returns\",\"strategy returns\",\"strategy returns\",\"strategy returns\",\"strategy returns\",\"strategy returns\",\"strategy returns\",\"strategy returns\",\"strategy returns\",\"strategy returns\",\"strategy returns\",\"strategy returns\",\"strategy returns\",\"strategy returns\",\"strategy returns\",\"strategy returns\",\"strategy returns\",\"strategy returns\",\"strategy returns\",\"strategy returns\",\"strategy returns\",\"strategy returns\",\"strategy returns\",\"strategy returns\",\"strategy returns\",\"strategy returns\",\"strategy returns\",\"strategy returns\",\"strategy returns\",\"strategy returns\",\"strategy returns\",\"strategy returns\",\"strategy returns\",\"strategy returns\",\"strategy returns\",\"strategy returns\",\"strategy returns\",\"strategy returns\",\"strategy returns\",\"strategy returns\",\"strategy returns\",\"strategy returns\",\"strategy returns\",\"strategy returns\",\"strategy returns\",\"strategy returns\",\"strategy returns\",\"strategy returns\",\"strategy returns\",\"strategy returns\",\"strategy returns\",\"strategy returns\",\"strategy returns\",\"strategy returns\",\"strategy returns\",\"strategy returns\",\"strategy returns\",\"strategy returns\",\"strategy returns\",\"strategy returns\",\"strategy returns\",\"strategy returns\",\"strategy returns\",\"strategy returns\",\"strategy returns\",\"strategy returns\",\"strategy returns\",\"strategy returns\",\"strategy returns\",\"strategy returns\",\"strategy returns\",\"strategy returns\",\"strategy returns\",\"strategy returns\",\"strategy returns\",\"strategy returns\",\"strategy returns\",\"strategy returns\",\"strategy returns\",\"strategy returns\",\"strategy returns\",\"strategy returns\",\"strategy returns\",\"strategy returns\",\"strategy returns\",\"strategy returns\",\"strategy returns\",\"strategy returns\",\"strategy returns\",\"strategy returns\",\"strategy returns\",\"strategy returns\",\"strategy returns\",\"strategy returns\",\"strategy returns\",\"strategy returns\",\"strategy returns\",\"strategy returns\",\"strategy returns\",\"strategy returns\",\"strategy returns\",\"strategy returns\",\"strategy returns\",\"strategy returns\",\"strategy returns\",\"strategy returns\",\"strategy returns\",\"strategy returns\",\"strategy returns\",\"strategy returns\",\"strategy returns\",\"strategy returns\",\"strategy returns\",\"strategy returns\",\"strategy returns\",\"strategy returns\",\"strategy returns\",\"strategy returns\",\"strategy returns\",\"strategy returns\",\"strategy returns\",\"strategy returns\",\"strategy returns\",\"strategy returns\",\"strategy returns\",\"strategy returns\",\"strategy returns\",\"strategy returns\",\"strategy returns\",\"strategy returns\",\"strategy returns\",\"strategy returns\",\"strategy returns\",\"strategy returns\",\"strategy returns\",\"strategy returns\",\"strategy returns\",\"strategy returns\",\"strategy returns\",\"strategy returns\",\"strategy returns\",\"strategy returns\",\"strategy returns\",\"strategy returns\",\"strategy returns\",\"strategy returns\",\"strategy returns\",\"strategy returns\",\"strategy returns\",\"strategy returns\",\"strategy returns\",\"strategy returns\",\"strategy returns\",\"strategy returns\",\"strategy returns\",\"strategy returns\",\"strategy returns\",\"strategy returns\",\"strategy returns\",\"strategy returns\",\"strategy returns\",\"strategy returns\",\"strategy returns\",\"strategy returns\",\"strategy returns\",\"strategy returns\",\"strategy returns\",\"strategy returns\",\"strategy returns\",\"strategy returns\",\"strategy returns\",\"strategy returns\",\"strategy returns\",\"strategy returns\",\"strategy returns\",\"strategy returns\",\"strategy returns\",\"strategy returns\",\"strategy returns\",\"strategy returns\",\"strategy returns\",\"strategy returns\",\"strategy returns\",\"strategy returns\",\"strategy returns\",\"strategy returns\",\"strategy returns\",\"strategy returns\",\"strategy returns\",\"strategy returns\",\"strategy returns\",\"strategy returns\",\"strategy returns\",\"strategy returns\",\"strategy returns\",\"strategy returns\",\"strategy returns\",\"strategy returns\",\"strategy returns\",\"strategy returns\",\"strategy returns\",\"strategy returns\",\"strategy returns\",\"strategy returns\",\"strategy returns\",\"strategy returns\",\"strategy returns\",\"strategy returns\",\"strategy returns\",\"strategy returns\",\"strategy returns\",\"strategy returns\",\"strategy returns\",\"strategy returns\",\"strategy returns\",\"strategy returns\",\"strategy returns\",\"strategy returns\",\"strategy returns\",\"strategy returns\",\"strategy returns\",\"strategy returns\",\"strategy returns\",\"strategy returns\",\"strategy returns\",\"strategy returns\",\"strategy returns\",\"strategy returns\",\"strategy returns\",\"strategy returns\",\"strategy returns\",\"strategy returns\",\"strategy returns\",\"strategy returns\",\"strategy returns\",\"strategy returns\",\"strategy returns\",\"strategy returns\",\"strategy returns\",\"strategy returns\",\"strategy returns\",\"strategy returns\",\"strategy returns\",\"strategy returns\",\"strategy returns\",\"strategy returns\",\"strategy returns\",\"strategy returns\",\"strategy returns\",\"strategy returns\",\"strategy returns\",\"strategy returns\",\"strategy returns\",\"strategy returns\",\"strategy returns\",\"strategy returns\",\"strategy returns\",\"strategy returns\",\"strategy returns\",\"strategy returns\",\"strategy returns\",\"strategy returns\",\"strategy returns\",\"strategy returns\",\"strategy returns\",\"strategy returns\",\"strategy returns\",\"strategy returns\",\"strategy returns\",\"strategy returns\",\"strategy returns\",\"strategy returns\",\"strategy returns\",\"strategy returns\",\"strategy returns\",\"strategy returns\",\"strategy returns\",\"strategy returns\",\"strategy returns\",\"strategy returns\",\"strategy returns\",\"strategy returns\",\"strategy returns\",\"strategy returns\",\"strategy returns\",\"strategy returns\",\"strategy returns\",\"strategy returns\",\"strategy returns\",\"strategy returns\",\"strategy returns\",\"strategy returns\",\"strategy returns\",\"strategy returns\",\"strategy returns\",\"strategy returns\",\"strategy returns\",\"strategy returns\",\"strategy returns\",\"strategy returns\",\"strategy returns\",\"strategy returns\",\"strategy returns\",\"strategy returns\",\"strategy returns\",\"strategy returns\",\"strategy returns\",\"strategy returns\",\"strategy returns\",\"strategy returns\",\"strategy returns\",\"strategy returns\",\"strategy returns\",\"strategy returns\",\"strategy returns\",\"strategy returns\",\"strategy returns\",\"strategy returns\",\"strategy returns\",\"strategy returns\",\"strategy returns\",\"strategy returns\",\"strategy returns\",\"strategy returns\",\"strategy returns\",\"strategy returns\",\"strategy returns\",\"strategy returns\",\"strategy returns\",\"strategy returns\",\"strategy returns\",\"strategy returns\",\"strategy returns\",\"strategy returns\",\"strategy returns\",\"strategy returns\",\"strategy returns\",\"strategy returns\",\"strategy returns\",\"strategy returns\",\"strategy returns\",\"strategy returns\",\"strategy returns\",\"strategy returns\",\"strategy returns\",\"strategy returns\",\"strategy returns\",\"strategy returns\",\"strategy returns\",\"strategy returns\",\"strategy returns\",\"strategy returns\",\"strategy returns\",\"strategy returns\",\"strategy returns\",\"strategy returns\",\"strategy returns\",\"strategy returns\",\"strategy returns\",\"strategy returns\",\"strategy returns\",\"strategy returns\",\"strategy returns\",\"strategy returns\",\"strategy returns\",\"strategy returns\",\"strategy returns\",\"strategy returns\",\"strategy returns\",\"strategy returns\",\"strategy returns\",\"strategy returns\",\"strategy returns\",\"strategy returns\",\"strategy returns\",\"strategy returns\",\"strategy returns\",\"strategy returns\",\"strategy returns\",\"strategy returns\",\"strategy returns\",\"strategy returns\",\"strategy returns\",\"strategy returns\",\"strategy returns\",\"strategy returns\",\"strategy returns\",\"strategy returns\",\"strategy returns\",\"strategy returns\",\"strategy returns\",\"strategy returns\",\"strategy returns\",\"strategy returns\",\"strategy returns\",\"strategy returns\",\"strategy returns\",\"strategy returns\",\"strategy returns\",\"strategy returns\",\"strategy returns\",\"strategy returns\",\"strategy returns\",\"strategy returns\",\"strategy returns\",\"strategy returns\",\"strategy returns\",\"strategy returns\",\"strategy returns\",\"strategy returns\",\"strategy returns\",\"strategy returns\",\"strategy returns\",\"strategy returns\",\"strategy returns\",\"strategy returns\",\"strategy returns\",\"strategy returns\",\"strategy returns\",\"strategy returns\",\"strategy returns\",\"strategy returns\",\"strategy returns\",\"strategy returns\",\"strategy returns\",\"strategy returns\",\"strategy returns\",\"strategy returns\",\"strategy returns\",\"strategy returns\",\"strategy returns\",\"strategy returns\",\"strategy returns\",\"strategy returns\",\"strategy returns\",\"strategy returns\",\"strategy returns\",\"strategy returns\",\"strategy returns\",\"strategy returns\",\"strategy returns\",\"strategy returns\",\"strategy returns\",\"strategy returns\",\"strategy returns\",\"strategy returns\",\"strategy returns\",\"strategy returns\",\"strategy returns\",\"strategy returns\",\"strategy returns\",\"strategy returns\",\"strategy returns\",\"strategy returns\",\"strategy returns\",\"strategy returns\",\"strategy returns\",\"strategy returns\",\"strategy returns\",\"strategy returns\",\"strategy returns\",\"strategy returns\",\"strategy returns\",\"strategy returns\",\"strategy returns\",\"strategy returns\",\"strategy returns\",\"strategy returns\",\"strategy returns\",\"strategy returns\",\"strategy returns\",\"strategy returns\",\"strategy returns\",\"strategy returns\",\"strategy returns\",\"strategy returns\",\"strategy returns\",\"strategy returns\",\"strategy returns\",\"strategy returns\",\"strategy returns\",\"strategy returns\",\"strategy returns\",\"strategy returns\",\"strategy returns\",\"strategy returns\",\"strategy returns\",\"strategy returns\",\"strategy returns\",\"strategy returns\",\"strategy returns\",\"strategy returns\",\"strategy returns\",\"strategy returns\",\"strategy returns\",\"strategy returns\",\"strategy returns\",\"strategy returns\",\"strategy returns\",\"strategy returns\",\"strategy returns\",\"strategy returns\",\"strategy returns\",\"strategy returns\",\"strategy returns\",\"strategy returns\",\"strategy returns\",\"strategy returns\",\"strategy returns\",\"strategy returns\",\"strategy returns\",\"strategy returns\",\"strategy returns\",\"strategy returns\",\"strategy returns\",\"strategy returns\",\"strategy returns\",\"strategy returns\",\"strategy returns\",\"strategy returns\",\"strategy returns\",\"strategy returns\",\"strategy returns\",\"strategy returns\",\"strategy returns\",\"strategy returns\",\"strategy returns\",\"strategy returns\",\"strategy returns\",\"strategy returns\",\"strategy returns\",\"strategy returns\",\"strategy returns\",\"strategy returns\",\"strategy returns\",\"strategy returns\",\"strategy returns\",\"strategy returns\",\"strategy returns\",\"strategy returns\",\"strategy returns\",\"strategy returns\",\"strategy returns\",\"strategy returns\",\"strategy returns\",\"strategy returns\",\"strategy returns\",\"strategy returns\",\"strategy returns\",\"strategy returns\",\"strategy returns\",\"strategy returns\",\"strategy returns\",\"strategy returns\",\"strategy returns\",\"strategy returns\",\"strategy returns\",\"strategy returns\",\"strategy returns\",\"strategy returns\",\"strategy returns\",\"strategy returns\",\"strategy returns\",\"strategy returns\",\"strategy returns\",\"strategy returns\",\"strategy returns\",\"strategy returns\",\"strategy returns\",\"strategy returns\",\"strategy returns\",\"strategy returns\",\"strategy returns\",\"strategy returns\",\"strategy returns\",\"strategy returns\",\"strategy returns\",\"strategy returns\",\"strategy returns\",\"strategy returns\",\"strategy returns\",\"strategy returns\",\"strategy returns\",\"strategy returns\",\"strategy returns\",\"strategy returns\",\"strategy returns\",\"strategy returns\",\"strategy returns\",\"strategy returns\",\"strategy returns\",\"strategy returns\",\"strategy returns\",\"strategy returns\",\"strategy returns\",\"strategy returns\",\"strategy returns\",\"strategy returns\",\"strategy returns\",\"strategy returns\",\"strategy returns\",\"strategy returns\",\"strategy returns\",\"strategy returns\",\"strategy returns\",\"strategy returns\",\"strategy returns\",\"strategy returns\",\"strategy returns\",\"strategy returns\",\"strategy returns\",\"strategy returns\",\"strategy returns\",\"strategy returns\",\"strategy returns\",\"strategy returns\",\"strategy returns\",\"strategy returns\",\"strategy returns\",\"strategy returns\",\"strategy returns\",\"strategy returns\",\"strategy returns\",\"strategy returns\",\"strategy returns\",\"strategy returns\",\"strategy returns\",\"strategy returns\",\"strategy returns\",\"strategy returns\",\"strategy returns\",\"strategy returns\",\"strategy returns\",\"strategy returns\",\"strategy returns\",\"strategy returns\",\"strategy returns\",\"strategy returns\",\"strategy returns\",\"strategy returns\",\"strategy returns\",\"strategy returns\",\"strategy returns\",\"strategy returns\",\"strategy returns\",\"strategy returns\",\"strategy returns\",\"strategy returns\",\"strategy returns\",\"strategy returns\",\"strategy returns\",\"strategy returns\",\"strategy returns\",\"strategy returns\",\"strategy returns\",\"strategy returns\",\"strategy returns\",\"strategy returns\",\"strategy returns\",\"strategy returns\",\"strategy returns\",\"strategy returns\",\"strategy returns\",\"strategy returns\",\"strategy returns\",\"strategy returns\",\"strategy returns\",\"strategy returns\",\"strategy returns\",\"strategy returns\",\"strategy returns\",\"strategy returns\",\"strategy returns\",\"strategy returns\",\"strategy returns\",\"strategy returns\",\"strategy returns\",\"strategy returns\",\"strategy returns\",\"strategy returns\",\"strategy returns\",\"strategy returns\",\"strategy returns\",\"strategy returns\",\"strategy returns\",\"strategy returns\",\"strategy returns\",\"strategy returns\",\"strategy returns\",\"strategy returns\",\"strategy returns\",\"strategy returns\",\"strategy returns\",\"strategy returns\",\"strategy returns\",\"strategy returns\",\"strategy returns\",\"strategy returns\",\"strategy returns\",\"strategy returns\",\"strategy returns\",\"strategy returns\",\"strategy returns\",\"strategy returns\",\"strategy returns\",\"strategy returns\",\"strategy returns\",\"strategy returns\",\"strategy returns\",\"strategy returns\",\"strategy returns\",\"strategy returns\",\"strategy returns\",\"strategy returns\",\"strategy returns\",\"strategy returns\",\"strategy returns\",\"strategy returns\",\"strategy returns\",\"strategy returns\",\"strategy returns\",\"strategy returns\",\"strategy returns\",\"strategy returns\",\"strategy returns\",\"strategy returns\",\"strategy returns\",\"strategy returns\",\"strategy returns\",\"strategy returns\",\"strategy returns\",\"strategy returns\",\"strategy returns\",\"strategy returns\",\"strategy returns\",\"strategy returns\",\"strategy returns\",\"strategy returns\",\"strategy returns\",\"strategy returns\",\"strategy returns\",\"strategy returns\",\"strategy returns\",\"strategy returns\",\"strategy returns\",\"strategy returns\",\"strategy returns\",\"strategy returns\"],\"time\":{\"__ndarray__\":\"AAB6yfird0IAADSl+at3QgAAQNwurHdCAAD6ty+sd0IAALSTMKx3QgAAbm8xrHdCAAAoSzKsd0IAAOImM6x3QgAAnAI0rHdCAABW3jSsd0IAABC6Nax3QgAAypU2rHdCAACEcTesd0IAAD5NOKx3QgAA+Cg5rHdCAACyBDqsd0IAAGzgOqx3QgAAJrw7rHdCAADglzysd0IAAJpzPax3QgAAVE8+rHdCAAAOKz+sd0IAAMgGQKx3QgAAguJArHdCAAA8vkGsd0IAAPaZQqx3QgAAsHVDrHdCAABqUUSsd0IAACQtRax3QgAA3ghGrHdCAACY5Easd0IAAFLAR6x3QgAADJxIrHdCAADGd0msd0IAAIBTSqx3QgAAOi9LrHdCAAD0Ckysd0IAAK7mTKx3QgAAdPmCrHdCAACijIWsd0IAAFxohqx3QgAAFkSHrHdCAADQH4isd0IAAIr7iKx3QgAARNeJrHdCAAD+soqsd0IAALiOi6x3QgAAcmqMrHdCAAAsRo2sd0IAAOYhjqx3QgAAoP2OrHdCAABa2Y+sd0IAABS1kKx3QgAAzpCRrHdCAACIbJKsd0IAAEJIk6x3QgAA/COUrHdCAAC2/5Ssd0IAAHDblax3QgAAKreWrHdCAADkkpesd0IAAJ5umKx3QgAAWEqZrHdCAAASJpqsd0IAAMwBm6x3QgAAht2brHdCAABAuZysd0IAAPqUnax3QgAAbkyfrHdCAAB6g9Ssd0IAADRf1ax3QgAA7jrWrHdCAACoFtesd0IAABzO2Kx3QgAA1qnZrHdCAACQhdqsd0IAAEph26x3QgAABD3crHdCAAC+GN2sd0IAAHj03ax3QgAAMtDerHdCAADsq9+sd0IAAKaH4Kx3QgAAYGPhrHdCAAAaP+Ksd0IAANQa46x3QgAAjvbjrHdCAABI0uSsd0IAAAKu5ax3QgAAvInmrHdCAAB2Zeesd0IAADBB6Kx3QgAA6hzprHdCAACk+Omsd0IAAF7U6qx3QgAAGLDrrHdCAADSi+ysd0IAAIxn7ax3QgAARkPurHdCAAAAH++sd0IAALr676x3QgAAdNbwrHdCAAAusvGsd0IAAIANJq13QgAA3DMrrXdCAACWDyytd0IAAFDrLK13QgAACsctrXdCAADEoi6td0IAAH5+L613QgAAOFowrXdCAADyNTGtd0IAAKwRMq13QgAAZu0yrXdCAAAgyTOtd0IAANqkNK13QgAAlIA1rXdCAABOXDatd0IAAAg4N613QgAAwhM4rXdCAAB87zitd0IAADbLOa13QgAA8KY6rXdCAACqgjutd0IAAGRePK13QgAAHjo9rXdCAADYFT6td0IAAJLxPq13QgAATM0/rXdCAAAGqUCtd0IAAMCEQa13QgAAemBCrXdCAACorSCud0IAAGKJIa53QgAAHGUirndCAADWQCOud0IAAJAcJK53QgAASvgkrndCAAAE1CWud0IAAL6vJq53QgAAeIsnrndCAAAyZyiud0IAAOxCKa53QgAAph4qrndCAABg+iqud0IAABrWK653QgAA1LEsrndCAACOjS2ud0IAAEhpLq53QgAAAkUvrndCAAC8IDCud0IAAHb8MK53QgAAMNgxrndCAADqszKud0IAAKSPM653QgAAXms0rndCAAAYRzWud0IAANIiNq53QgAAjP42rndCAABG2jeud0IAAAC2OK53QgAAupE5rndCAAB0bTqud0IAAC5JO653QgAAIu9zrndCAADcynSud0IAAJamda53QgAAUIJ2rndCAAAKXneud0IAAMQ5eK53QgAAfhV5rndCAAA48Xmud0IAAPLMeq53QgAArKh7rndCAABmhHyud0IAACBgfa53QgAA2jt+rndCAACUF3+ud0IAAE7zf653QgAACM+ArndCAADCqoGud0IAAHyGgq53QgAANmKDrndCAADwPYSud0IAAKoZha53QgAAZPWFrndCAAAe0Yaud0IAANish653QgAAkoiIrndCAABMZImud0IAAAZAiq53QgAAwBuLrndCAAB694uud0IAAPrlwq53QgAAbp3ErndCAAAoecWud0IAAOJUxq53QgAAnDDHrndCAABWDMiud0IAABDoyK53QgAAysPJrndCAACEn8qud0IAAD57y653QgAA+FbMrndCAACyMs2ud0IAAGwOzq53QgAAJurOrndCAADgxc+ud0IAAJqh0K53QgAAVH3RrndCAAAOWdKud0IAAMg00653QgAAghDUrndCAAA87NSud0IAAPbH1a53QgAAsKPWrndCAABqf9eud0IAACRb2K53QgAA3jbZrndCAACYEtqud0IAAFLu2q53QgAADMrbrndCAADGpdyud0IAAICB3a53QgAAOl3erndCAAD0ON+ud0IAAABwFK93QgAALgMXr3dCAACiuhivd0IAAFyWGa93QgAAFnIar3dCAADQTRuvd0IAAIopHK93QgAARAUdr3dCAAD+4B2vd0IAALi8Hq93QgAAcpgfr3dCAAAsdCCvd0IAAOZPIa93QgAAoCsir3dCAABaByOvd0IAABTjI693QgAAzr4kr3dCAACImiWvd0IAAEJ2Jq93QgAA/FEnr3dCAAC2LSivd0IAAHAJKa93QgAAKuUpr3dCAADkwCqvd0IAAJ6cK693QgAAWHgsr3dCAAASVC2vd0IAAMwvLq93QgAAhgsvr3dCAABA5y+vd0IAAPrCMK93QgAAtJ4xr3dCAABuejKvd0IAAGIga693QgAAHPxrr3dCAADW12yvd0IAAJCzba93QgAASo9ur3dCAAAEa2+vd0IAAL5GcK93QgAAeCJxr3dCAAAy/nGvd0IAAOzZcq93QgAAprVzr3dCAABgkXSvd0IAABptda93QgAA1Eh2r3dCAACOJHevd0IAAEgAeK93QgAAAtx4r3dCAAC8t3mvd0IAAHaTeq93QgAAMG97r3dCAADqSnyvd0IAAKQmfa93QgAAXgJ+r3dCAAAY3n6vd0IAANK5f693QgAAjJWAr3dCAABGcYGvd0IAAABNgq93QgAAuiiDr3dCAAB0BISvd0IAAC7ghK93QgAAuuJesHdCAADodWGwd0IAAKJRYrB3QgAAXC1jsHdCAAAWCWSwd0IAANDkZLB3QgAAisBlsHdCAABEnGawd0IAAP53Z7B3QgAAuFNosHdCAAByL2mwd0IAACwLarB3QgAA5uZqsHdCAACgwmuwd0IAAFqebLB3QgAAFHptsHdCAADOVW6wd0IAAIgxb7B3QgAAQg1wsHdCAAD86HCwd0IAALbEcbB3QgAAcKBysHdCAAAqfHOwd0IAAORXdLB3QgAAnjN1sHdCAABYD3awd0IAABLrdrB3QgAAzMZ3sHdCAACGoniwd0IAAEB+ebB3QgAA+ll6sHdCAAC0NXuwd0IAAHpIsbB3QgAANCSysHdCAADu/7Kwd0IAAKjbs7B3QgAAHJO1sHdCAADWbrawd0IAAJBKt7B3QgAASia4sHdCAAAEArmwd0IAAL7dubB3QgAAeLm6sHdCAAAylbuwd0IAAOxwvLB3QgAApky9sHdCAABgKL6wd0IAABoEv7B3QgAA1N+/sHdCAACOu8Cwd0IAAEiXwbB3QgAAAnPCsHdCAAC8TsOwd0IAAHYqxLB3QgAAMAbFsHdCAADq4cWwd0IAAKS9xrB3QgAAXpnHsHdCAAAYdciwd0IAANJQybB3QgAAjCzKsHdCAABGCMuwd0IAAADky7B3QgAAur/MsHdCAAA6rgOxd0IAAPSJBLF3QgAArmUFsXdCAADc+Aexd0IAAJbUCLF3QgAAULAJsXdCAAAKjAqxd0IAAMRnC7F3QgAAfkMMsXdCAAA4Hw2xd0IAAPL6DbF3QgAArNYOsXdCAABmsg+xd0IAACCOELF3QgAA2mkRsXdCAACURRKxd0IAAE4hE7F3QgAACP0TsXdCAADC2BSxd0IAAHy0FbF3QgAANpAWsXdCAADwaxexd0IAAKpHGLF3QgAAZCMZsXdCAAAe/xmxd0IAANjaGrF3QgAAkrYbsXdCAABMkhyxd0IAAAZuHbF3QgAAwEkesXdCAAB6JR+xd0IAADQBILF3QgAAnF5asXdCAABWOluxd0IAABAWXLF3QgAAyvFcsXdCAACEzV2xd0IAAD6pXrF3QgAA+IRfsXdCAACyYGCxd0IAAGw8YbF3QgAAJhhisXdCAADg82Kxd0IAAJrPY7F3QgAAVKtksXdCAAAOh2Wxd0IAAMhiZrF3QgAAgj5nsXdCAAA8Gmixd0IAAPb1aLF3QgAAsNFpsXdCAABqrWqxd0IAACSJa7F3QgAA3mRssXdCAACYQG2xd0IAAFIcbrF3QgAADPhusXdCAADG02+xd0IAAICvcLF3QgAAOotxsXdCAAD0ZnKxd0IAAK5Cc7F3QgAAAJ6nsXdCAAB0Vamxd0IAAC4xqrF3QgAAouirsXdCAABcxKyxd0IAABagrbF3QgAA0HuusXdCAACKV6+xd0IAAEQzsLF3QgAA/g6xsXdCAAC46rGxd0IAAHLGsrF3QgAALKKzsXdCAADmfbSxd0IAAKBZtbF3QgAAWjW2sXdCAAAUEbexd0IAAM7st7F3QgAAiMi4sXdCAABCpLmxd0IAAPx/urF3QgAAtlu7sXdCAABwN7yxd0IAACoTvbF3QgAA5O69sXdCAACeyr6xd0IAAFimv7F3QgAAEoLAsXdCAADMXcGxd0IAAIY5wrF3QgAAQBXDsXdCAAD68MOxd0IAALTMxLF3QgAAbmKhsndCAACc9aOyd0IAAFbRpLJ3QgAAEK2lsndCAADKiKayd0IAAIRkp7J3QgAAPkCosndCAAD4G6myd0IAALL3qbJ3QgAAbNOqsndCAAAmr6uyd0IAAOCKrLJ3QgAAmmatsndCAABUQq6yd0IAAA4er7J3QgAAyPmvsndCAACC1bCyd0IAADyxsbJ3QgAA9oyysndCAACwaLOyd0IAAGpEtLJ3QgAAJCC1sndCAADe+7Wyd0IAAJjXtrJ3QgAAUrO3sndCAAAMj7iyd0IAAMZqubJ3QgAAgEa6sndCAAA6Iruyd0IAAPT9u7J3QgAA6KP0sndCAACif/Wyd0IAAFxb9rJ3QgAAFjf3sndCAADQEviyd0IAAIru+LJ3QgAARMr5sndCAAD+pfqyd0IAALiB+7J3QgAAcl38sndCAAAsOf2yd0IAAOYU/rJ3QgAAoPD+sndCAABazP+yd0IAABSoALN3QgAAzoMBs3dCAACIXwKzd0IAAEI7A7N3QgAA/BYEs3dCAAC28gSzd0IAAHDOBbN3QgAAKqoGs3dCAADkhQezd0IAAJ5hCLN3QgAAWD0Js3dCAAASGQqzd0IAAMz0CrN3QgAAhtALs3dCAABArAyzd0IAAPqHDbN3QgAAtGMOs3dCAABuPw+zd0IAADRSRbN3QgAA7i1Gs3dCAACoCUezd0IAAGLlR7N3QgAAHMFIs3dCAADWnEmzd0IAAJB4SrN3QgAASlRLs3dCAAAEMEyzd0IAAL4LTbN3QgAAeOdNs3dCAAAyw06zd0IAAOyeT7N3QgAApnpQs3dCAABgVlGzd0IAABoyUrN3QgAA1A1Ts3dCAACO6VOzd0IAAEjFVLN3QgAAAqFVs3dCAAC8fFazd0IAAHZYV7N3QgAAMDRYs3dCAADqD1mzd0IAAKTrWbN3QgAAXsdas3dCAAAYo1uzd0IAANJ+XLN3QgAAjFpds3dCAABGNl6zd0IAAAASX7N3QgAAuu1fs3dCAAB0yWCzd0IAAC6lYbN3QgAA9LeXs3dCAACuk5izd0IAAGhvmbN3QgAA3Cabs3dCAACWApyzd0IAAFDenLN3QgAACrqds3dCAADElZ6zd0IAAH5xn7N3QgAAOE2gs3dCAADyKKGzd0IAAKwEorN3QgAAZuCis3dCAAAgvKOzd0IAANqXpLN3QgAAlHOls3dCAABOT6azd0IAAAgrp7N3QgAAwgaos3dCAAB84qizd0IAADa+qbN3QgAA8Jmqs3dCAACqdauzd0IAAGRRrLN3QgAAHi2ts3dCAADYCK6zd0IAAJLkrrN3QgAATMCvs3dCAAAGnLCzd0IAAMB3sbN3QgAAelOys3dCAAA0L7Ozd0IAAO4KtLN3QgAA4rDss3dCAACcjO2zd0IAAFZo7rN3QgAAEETvs3dCAADKH/Czd0IAAIT78LN3QgAAPtfxs3dCAAD4svKzd0IAALKO87N3QgAAbGr0s3dCAAAmRvWzd0IAAOAh9rN3QgAAmv32s3dCAABU2fezd0IAAA61+LN3QgAAyJD5s3dCAACCbPqzd0IAADxI+7N3QgAA9iP8s3dCAACw//yzd0IAAGrb/bN3QgAAJLf+s3dCAADekv+zd0IAAJhuALR3QgAAUkoBtHdCAAAMJgK0d0IAAMYBA7R3QgAAgN0DtHdCAAA6uQS0d0IAAPSUBbR3QgAAgJfftHdCAADcveS0d0IAAJaZ5bR3QgAAUHXmtHdCAAAKUee0d0IAAMQs6LR3QgAAfgjptHdCAAA45Om0d0IAAPK/6rR3QgAArJvrtHdCAABmd+y0d0IAACBT7bR3QgAA2i7utHdCAACUCu+0d0IAAE7m77R3QgAACMLwtHdCAADCnfG0d0IAAHx58rR3QgAANlXztHdCAADwMPS0d0IAAKoM9bR3QgAAZOj1tHdCAAAexPa0d0IAANif97R3QgAAknv4tHdCAABMV/m0d0IAAAYz+rR3QgAAwA77tHdCAAB66vu0d0IAADTG/LR3QgAA7qH9tHdCAAC0tDO1d0IAAChsNbV3QgAA4kc2tXdCAACcIze1d0IAAFb/N7V3QgAAENs4tXdCAADKtjm1d0IAAISSOrV3QgAAPm47tXdCAAD4STy1d0IAALIlPbV3QgAAbAE+tXdCAAAm3T61d0IAAOC4P7V3QgAAmpRAtXdCAABUcEG1d0IAAA5MQrV3QgAAyCdDtXdCAACCA0S1d0IAADzfRLV3QgAA9rpFtXdCAACwlka1d0IAAGpyR7V3QgAAJE5ItXdCAADeKUm1d0IAAJgFSrV3QgAAUuFKtXdCAAAMvUu1d0IAAMaYTLV3QgAAgHRNtXdCAAA6UE61d0IAAPQrT7V3QgAArgdQtXdCAADo0Ye1d0IAAKKtiLV3QgAAXImJtXdCAAAWZYq1d0IAANBAi7V3QgAAihyMtXdCAABE+Iy1d0IAAP7TjbV3QgAAuK+OtXdCAAByi4+1d0IAACxnkLV3QgAA5kKRtXdCAACgHpK1d0IAAFr6krV3QgAAFNaTtXdCAADOsZS1d0IAAIiNlbV3QgAAQmmWtXdCAAD8RJe1d0IAALYgmLV3QgAAcPyYtXdCAAAq2Jm1d0IAAOSzmrV3QgAAno+btXdCAABYa5y1d0IAABJHnbV3QgAAzCKetXdCAACG/p61d0IAAEDan7V3QgAA+rWgtXdCAAC0kaG1d0IAAG5torV3QgAAwMjWtXdCAAA0gNi1d0IAAO5b2bV3QgAAqDfatXdCAABiE9u1d0IAABzv27V3QgAA1srctXdCAACQpt21d0IAAEqC3rV3QgAABF7ftXdCAAC+OeC1d0IAAHgV4bV3QgAAMvHhtXdCAADszOK1d0IAAKao47V3QgAAYITktXdCAAAaYOW1d0IAANQ75rV3QgAAjhfntXdCAABI8+e1d0IAAALP6LV3QgAAvKrptXdCAAB2huq1d0IAADBi67V3QgAA6j3stXdCAACkGe21d0IAAF717bV3QgAAGNHutXdCAADSrO+1d0IAAIyI8LV3QgAARmTxtXdCAAAAQPK1d0IAALob87V3QgAAdPfztXdCAAAu0/S1d0IAAPTlKrZ3QgAAaJ0stndCAAAieS22d0IAANxULrZ3QgAAljAvtndCAABQDDC2d0IAAAroMLZ3QgAAxMMxtndCAAB+nzK2d0IAADh7M7Z3QgAA8lY0tndCAACsMjW2d0IAAGYONrZ3QgAAIOo2tndCAADaxTe2d0IAAJShOLZ3QgAATn05tndCAAAIWTq2d0IAAMI0O7Z3QgAAfBA8tndCAAA27Dy2d0IAAPDHPbZ3QgAAqqM+tndCAABkfz+2d0IAAB5bQLZ3QgAA2DZBtndCAACSEkK2d0IAAEzuQrZ3QgAABspDtndCAADApUS2d0IAAHqBRbZ3QgAANF1GtndCAADuOEe2d0IAADQXIrd3QgAAqM4jt3dCAAAchiW3d0IAANZhJrd3QgAAkD0nt3dCAABKGSi3d0IAAAT1KLd3QgAAvtApt3dCAAB4rCq3d0IAADKIK7d3QgAA7GMst3dCAACmPy23d0IAAGAbLrd3QgAAGvcut3dCAADU0i+3d0IAAI6uMLd3QgAASIoxt3dCAAACZjK3d0IAALxBM7d3QgAAdh00t3dCAAAw+TS3d0IAAOrUNbd3QgAApLA2t3dCAABejDe3d0IAABhoOLd3QgAA0kM5t3dCAACMHzq3d0IAAEb7Ord3QgAAANc7t3dCAAC6sjy3d0IAAC5qPrd3QgAA9Hx0t3dCAACuWHW3d0IAACIQd7d3QgAA3Ot3t3dCAACWx3i3d0IAAFCjebd3QgAACn96t3dCAADEWnu3d0IAAH42fLd3QgAAOBJ9t3dCAADy7X23d0IAAKzJfrd3QgAAZqV/t3dCAAAggYC3d0IAANpcgbd3QgAAlDiCt3dCAABOFIO3d0IAAAjwg7d3QgAAwsuEt3dCAAB8p4W3d0IAADaDhrd3QgAA8F6Ht3dCAACqOoi3d0IAAGQWibd3QgAAHvKJt3dCAADYzYq3d0IAAJKpi7d3QgAATIWMt3dCAAAGYY23d0IAAMA8jrd3QgAAehiPt3dCAAA09I+3d0IAAO7PkLd3QgAAnFHKt3dCAABWLcu3d0IAABAJzLd3QgAAyuTMt3dCAACEwM23d0IAAD6czrd3QgAA+HfPt3dCAACyU9C3d0IAAGwv0bd3QgAAJgvSt3dCAADg5tK3d0IAAJrC07d3QgAAVJ7Ut3dCAAAOetW3d0IAAMhV1rd3QgAAgjHXt3dCAAA8Ddi3d0IAAPbo2Ld3QgAAsMTZt3dCAABqoNq3d0IAACR827d3QgAA3lfct3dCAACYM923d0IAAFIP3rd3QgAADOvet3dCAADGxt+3d0IAAICi4Ld3QgAAOn7ht3dCAAD0WeK3d0IAAK4147d3QgAAAJEXuHdCAAB0SBm4d0IAAOj/Grh3QgAAotsbuHdCAABctxy4d0IAABaTHbh3QgAA0G4euHdCAACKSh+4d0IAAEQmILh3QgAA/gEhuHdCAAC43SG4d0IAAHK5Irh3QgAALJUjuHdCAADmcCS4d0IAAKBMJbh3QgAAWigmuHdCAAAUBCe4d0IAAM7fJ7h3QgAAiLsouHdCAABClym4d0IAAPxyKrh3QgAAtk4ruHdCAABwKiy4d0IAACoGLbh3QgAA5OEtuHdCAACevS64d0IAAFiZL7h3QgAAEnUwuHdCAADMUDG4d0IAAIYsMrh3QgAAQAgzuHdCAAD64zO4d0IAALS/NLh3QgAAbps1uHdCAAAcHW+4d0IAANb4b7h3QgAAkNRwuHdCAABKsHG4d0IAAASMcrh3QgAAvmdzuHdCAAB4Q3S4d0IAADIfdbh3QgAA7Pp1uHdCAACm1na4d0IAAGCyd7h3QgAAGo54uHdCAADUaXm4d0IAAI5Ferh3QgAASCF7uHdCAAAC/Xu4d0IAALzYfLh3QgAAdrR9uHdCAAAwkH64d0IAAOprf7h3QgAApEeAuHdCAABeI4G4d0IAABj/gbh3QgAA0tqCuHdCAACMtoO4d0IAAEaShLh3QgAAAG6FuHdCAAC6SYa4d0IAAHQlh7h3QgAALgGIuHdCAABcTma5d0IAABYqZ7l3QgAA0AVouXdCAACK4Wi5d0IAAES9abl3QgAA/phquXdCAAC4dGu5d0IAAHJQbLl3QgAALCxtuXdCAADmB265d0IAAKDjbrl3QgAAWr9vuXdCAAAUm3C5d0IAAM52cbl3QgAAiFJyuXdCAABCLnO5d0IAAPwJdLl3QgAAtuV0uXdCAABwwXW5d0IAACqddrl3QgAA5Hh3uXdCAACeVHi5d0IAAFgwebl3QgAAEgx6uXdCAADM53q5d0IAAIbDe7l3QgAAQJ98uXdCAAD6en25d0IAALRWfrl3QgAAbjJ/uXdCAACo/La5d0IAAGLYt7l3QgAAHLS4uXdCAADWj7m5d0IAAJBrurl3QgAASke7uXdCAAAEI7y5d0IAAL7+vLl3QgAAeNq9uXdCAAAytr65d0IAAOyRv7l3QgAApm3AuXdCAABgScG5d0IAABolwrl3QgAA1ADDuXdCAACO3MO5d0IAAEi4xLl3QgAAApTFuXdCAAC8b8a5d0IAAHZLx7l3QgAAMCfIuXdCAADqAsm5d0IAAKTeybl3QgAAXrrKuXdCAAAYlsu5d0IAANJxzLl3QgAAjE3NuXdCAABGKc65d0IAAAAFz7l3QgAAuuDPuXdCAAAumNG5d0I=\",\"dtype\":\"float64\",\"order\":\"little\",\"shape\":[991]},\"value\":{\"__ndarray__\":\"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\",\"dtype\":\"float64\",\"order\":\"little\",\"shape\":[991]}},\"selected\":{\"id\":\"2833\"},\"selection_policy\":{\"id\":\"2847\"}},\"id\":\"2832\",\"type\":\"ColumnDataSource\"},{\"attributes\":{\"base\":24,\"mantissas\":[1,2,4,6,8,12],\"max_interval\":43200000.0,\"min_interval\":3600000.0,\"num_minor_ticks\":0},\"id\":\"2852\",\"type\":\"AdaptiveTicker\"},{\"attributes\":{\"axis_label\":\"time\",\"formatter\":{\"id\":\"2826\"},\"major_label_policy\":{\"id\":\"2828\"},\"ticker\":{\"id\":\"2806\"}},\"id\":\"2805\",\"type\":\"DatetimeAxis\"},{\"attributes\":{},\"id\":\"2829\",\"type\":\"BasicTickFormatter\"},{\"attributes\":{\"overlay\":{\"id\":\"2818\"}},\"id\":\"2816\",\"type\":\"BoxZoomTool\"},{\"attributes\":{},\"id\":\"2826\",\"type\":\"DatetimeTickFormatter\"},{\"attributes\":{},\"id\":\"2831\",\"type\":\"AllLabels\"},{\"attributes\":{\"below\":[{\"id\":\"2805\"}],\"center\":[{\"id\":\"2808\"},{\"id\":\"2812\"}],\"height\":300,\"left\":[{\"id\":\"2809\"}],\"margin\":[5,5,5,5],\"min_border_bottom\":10,\"min_border_left\":10,\"min_border_right\":10,\"min_border_top\":10,\"renderers\":[{\"id\":\"2838\"},{\"id\":\"2871\"}],\"right\":[{\"id\":\"2862\"}],\"sizing_mode\":\"fixed\",\"title\":{\"id\":\"2797\"},\"toolbar\":{\"id\":\"2819\"},\"width\":700,\"x_range\":{\"id\":\"2792\"},\"x_scale\":{\"id\":\"2801\"},\"y_range\":{\"id\":\"2793\"},\"y_scale\":{\"id\":\"2803\"}},\"id\":\"2796\",\"subtype\":\"Figure\",\"type\":\"Plot\"},{\"attributes\":{\"axis_label\":\"\",\"formatter\":{\"id\":\"2829\"},\"major_label_policy\":{\"id\":\"2831\"},\"ticker\":{\"id\":\"2810\"}},\"id\":\"2809\",\"type\":\"LinearAxis\"},{\"attributes\":{},\"id\":\"2817\",\"type\":\"ResetTool\"},{\"attributes\":{\"end\":1.0725189402851638,\"reset_end\":1.0725189402851638,\"reset_start\":0.9934073690649851,\"start\":0.9934073690649851,\"tags\":[[[\"value\",\"value\",null]]]},\"id\":\"2793\",\"type\":\"Range1d\"},{\"attributes\":{\"end\":1630428300000.0,\"reset_end\":1630428300000.0,\"reset_start\":1626711300000.0,\"start\":1626711300000.0,\"tags\":[[[\"time\",\"time\",null]]]},\"id\":\"2792\",\"type\":\"Range1d\"},{\"attributes\":{\"active_multi\":null,\"tools\":[{\"id\":\"2794\"},{\"id\":\"2813\"},{\"id\":\"2814\"},{\"id\":\"2815\"},{\"id\":\"2816\"},{\"id\":\"2817\"}]},\"id\":\"2819\",\"type\":\"Toolbar\"},{\"attributes\":{\"days\":[1,15]},\"id\":\"2856\",\"type\":\"DaysTicker\"},{\"attributes\":{\"line_color\":\"#30a2da\",\"line_width\":2,\"x\":{\"field\":\"time\"},\"y\":{\"field\":\"value\"}},\"id\":\"2835\",\"type\":\"Line\"},{\"attributes\":{\"line_color\":\"#fc4f30\",\"line_width\":2,\"x\":{\"field\":\"time\"},\"y\":{\"field\":\"value\"}},\"id\":\"2868\",\"type\":\"Line\"},{\"attributes\":{},\"id\":\"2847\",\"type\":\"UnionRenderers\"},{\"attributes\":{\"line_alpha\":0.2,\"line_color\":\"#fc4f30\",\"line_width\":2,\"x\":{\"field\":\"time\"},\"y\":{\"field\":\"value\"}},\"id\":\"2870\",\"type\":\"Line\"},{\"attributes\":{\"mantissas\":[1,2,5],\"max_interval\":500.0,\"num_minor_ticks\":0},\"id\":\"2850\",\"type\":\"AdaptiveTicker\"},{\"attributes\":{},\"id\":\"2801\",\"type\":\"LinearScale\"},{\"attributes\":{},\"id\":\"2866\",\"type\":\"Selection\"},{\"attributes\":{},\"id\":\"2810\",\"type\":\"BasicTicker\"},{\"attributes\":{\"bottom_units\":\"screen\",\"fill_alpha\":0.5,\"fill_color\":\"lightgrey\",\"left_units\":\"screen\",\"level\":\"overlay\",\"line_alpha\":1.0,\"line_color\":\"black\",\"line_dash\":[4,4],\"line_width\":2,\"right_units\":\"screen\",\"syncable\":false,\"top_units\":\"screen\"},\"id\":\"2818\",\"type\":\"BoxAnnotation\"},{\"attributes\":{\"days\":[1,4,7,10,13,16,19,22,25,28]},\"id\":\"2854\",\"type\":\"DaysTicker\"},{\"attributes\":{},\"id\":\"2882\",\"type\":\"UnionRenderers\"},{\"attributes\":{\"months\":[0,1,2,3,4,5,6,7,8,9,10,11]},\"id\":\"2857\",\"type\":\"MonthsTicker\"},{\"attributes\":{\"line_alpha\":0.1,\"line_color\":\"#30a2da\",\"line_width\":2,\"x\":{\"field\":\"time\"},\"y\":{\"field\":\"value\"}},\"id\":\"2836\",\"type\":\"Line\"},{\"attributes\":{\"source\":{\"id\":\"2865\"}},\"id\":\"2872\",\"type\":\"CDSView\"},{\"attributes\":{},\"id\":\"2833\",\"type\":\"Selection\"},{\"attributes\":{\"days\":[1,8,15,22]},\"id\":\"2855\",\"type\":\"DaysTicker\"},{\"attributes\":{\"line_alpha\":0.2,\"line_color\":\"#30a2da\",\"line_width\":2,\"x\":{\"field\":\"time\"},\"y\":{\"field\":\"value\"}},\"id\":\"2837\",\"type\":\"Line\"},{\"attributes\":{\"callback\":null,\"formatters\":{\"@{time}\":\"datetime\"},\"renderers\":[{\"id\":\"2838\"},{\"id\":\"2871\"}],\"tags\":[\"hv_created\"],\"tooltips\":[[\"Variable\",\"@{Variable}\"],[\"time\",\"@{time}{%F %T}\"],[\"value\",\"@{value}\"]]},\"id\":\"2794\",\"type\":\"HoverTool\"},{\"attributes\":{\"months\":[0,4,8]},\"id\":\"2859\",\"type\":\"MonthsTicker\"},{\"attributes\":{\"margin\":[5,5,5,5],\"name\":\"HSpacer03431\",\"sizing_mode\":\"stretch_width\"},\"id\":\"2791\",\"type\":\"Spacer\"},{\"attributes\":{\"line_alpha\":0.1,\"line_color\":\"#fc4f30\",\"line_width\":2,\"x\":{\"field\":\"time\"},\"y\":{\"field\":\"value\"}},\"id\":\"2869\",\"type\":\"Line\"},{\"attributes\":{\"data_source\":{\"id\":\"2865\"},\"glyph\":{\"id\":\"2868\"},\"hover_glyph\":null,\"muted_glyph\":{\"id\":\"2870\"},\"nonselection_glyph\":{\"id\":\"2869\"},\"selection_glyph\":{\"id\":\"2898\"},\"view\":{\"id\":\"2872\"}},\"id\":\"2871\",\"type\":\"GlyphRenderer\"},{\"attributes\":{\"data\":{\"Variable\":[\"returns\",\"returns\",\"returns\",\"returns\",\"returns\",\"returns\",\"returns\",\"returns\",\"returns\",\"returns\",\"returns\",\"returns\",\"returns\",\"returns\",\"returns\",\"returns\",\"returns\",\"returns\",\"returns\",\"returns\",\"returns\",\"returns\",\"returns\",\"returns\",\"returns\",\"returns\",\"returns\",\"returns\",\"returns\",\"returns\",\"returns\",\"returns\",\"returns\",\"returns\",\"returns\",\"returns\",\"returns\",\"returns\",\"returns\",\"returns\",\"returns\",\"returns\",\"returns\",\"returns\",\"returns\",\"returns\",\"returns\",\"returns\",\"returns\",\"returns\",\"returns\",\"returns\",\"returns\",\"returns\",\"returns\",\"returns\",\"returns\",\"returns\",\"returns\",\"returns\",\"returns\",\"returns\",\"returns\",\"returns\",\"returns\",\"returns\",\"returns\",\"returns\",\"returns\",\"returns\",\"returns\",\"returns\",\"returns\",\"returns\",\"returns\",\"returns\",\"returns\",\"returns\",\"returns\",\"returns\",\"returns\",\"returns\",\"returns\",\"returns\",\"returns\",\"returns\",\"returns\",\"returns\",\"returns\",\"returns\",\"returns\",\"returns\",\"returns\",\"returns\",\"returns\",\"returns\",\"returns\",\"returns\",\"returns\",\"returns\",\"returns\",\"returns\",\"returns\",\"returns\",\"returns\",\"returns\",\"returns\",\"returns\",\"returns\",\"returns\",\"returns\",\"returns\",\"returns\",\"returns\",\"returns\",\"returns\",\"returns\",\"returns\",\"returns\",\"returns\",\"returns\",\"returns\",\"returns\",\"returns\",\"returns\",\"returns\",\"returns\",\"returns\",\"returns\",\"returns\",\"returns\",\"returns\",\"returns\",\"returns\",\"returns\",\"returns\",\"returns\",\"returns\",\"returns\",\"returns\",\"returns\",\"returns\",\"returns\",\"returns\",\"returns\",\"returns\",\"returns\",\"returns\",\"returns\",\"returns\",\"returns\",\"returns\",\"returns\",\"returns\",\"returns\",\"returns\",\"returns\",\"returns\",\"returns\",\"returns\",\"returns\",\"returns\",\"returns\",\"returns\",\"returns\",\"returns\",\"returns\",\"returns\",\"returns\",\"returns\",\"returns\",\"returns\",\"returns\",\"returns\",\"returns\",\"returns\",\"returns\",\"returns\",\"returns\",\"returns\",\"returns\",\"returns\",\"returns\",\"returns\",\"returns\",\"returns\",\"returns\",\"returns\",\"returns\",\"returns\",\"returns\",\"returns\",\"returns\",\"returns\",\"returns\",\"returns\",\"returns\",\"returns\",\"returns\",\"returns\",\"returns\",\"returns\",\"returns\",\"returns\",\"returns\",\"returns\",\"returns\",\"returns\",\"returns\",\"returns\",\"returns\",\"returns\",\"returns\",\"returns\",\"returns\",\"returns\",\"returns\",\"returns\",\"returns\",\"returns\",\"returns\",\"returns\",\"returns\",\"returns\",\"returns\",\"returns\",\"returns\",\"returns\",\"returns\",\"returns\",\"returns\",\"returns\",\"returns\",\"returns\",\"returns\",\"returns\",\"returns\",\"returns\",\"returns\",\"returns\",\"returns\",\"returns\",\"returns\",\"returns\",\"returns\",\"returns\",\"returns\",\"returns\",\"returns\",\"returns\",\"returns\",\"returns\",\"returns\",\"returns\",\"returns\",\"returns\",\"returns\",\"returns\",\"returns\",\"returns\",\"returns\",\"returns\",\"returns\",\"returns\",\"returns\",\"returns\",\"returns\",\"returns\",\"returns\",\"returns\",\"returns\",\"returns\",\"returns\",\"returns\",\"returns\",\"returns\",\"returns\",\"returns\",\"returns\",\"returns\",\"returns\",\"returns\",\"returns\",\"returns\",\"returns\",\"returns\",\"returns\",\"returns\",\"returns\",\"returns\",\"returns\",\"returns\",\"returns\",\"returns\",\"returns\",\"returns\",\"returns\",\"returns\",\"returns\",\"returns\",\"returns\",\"returns\",\"returns\",\"returns\",\"returns\",\"returns\",\"returns\",\"returns\",\"returns\",\"returns\",\"returns\",\"returns\",\"returns\",\"returns\",\"returns\",\"returns\",\"returns\",\"returns\",\"returns\",\"returns\",\"returns\",\"returns\",\"returns\",\"returns\",\"returns\",\"returns\",\"returns\",\"returns\",\"returns\",\"returns\",\"returns\",\"returns\",\"returns\",\"returns\",\"returns\",\"returns\",\"returns\",\"returns\",\"returns\",\"returns\",\"returns\",\"returns\",\"returns\",\"returns\",\"returns\",\"returns\",\"returns\",\"returns\",\"returns\",\"returns\",\"returns\",\"returns\",\"returns\",\"returns\",\"returns\",\"returns\",\"returns\",\"returns\",\"returns\",\"returns\",\"returns\",\"returns\",\"returns\",\"returns\",\"returns\",\"returns\",\"returns\",\"returns\",\"returns\",\"returns\",\"returns\",\"returns\",\"returns\",\"returns\",\"returns\",\"returns\",\"returns\",\"returns\",\"returns\",\"returns\",\"returns\",\"returns\",\"returns\",\"returns\",\"returns\",\"returns\",\"returns\",\"returns\",\"returns\",\"returns\",\"returns\",\"returns\",\"returns\",\"returns\",\"returns\",\"returns\",\"returns\",\"returns\",\"returns\",\"returns\",\"returns\",\"returns\",\"returns\",\"returns\",\"returns\",\"returns\",\"returns\",\"returns\",\"returns\",\"returns\",\"returns\",\"returns\",\"returns\",\"returns\",\"returns\",\"returns\",\"returns\",\"returns\",\"returns\",\"returns\",\"returns\",\"returns\",\"returns\",\"returns\",\"returns\",\"returns\",\"returns\",\"returns\",\"returns\",\"returns\",\"returns\",\"returns\",\"returns\",\"returns\",\"returns\",\"returns\",\"returns\",\"returns\",\"returns\",\"returns\",\"returns\",\"returns\",\"returns\",\"returns\",\"returns\",\"returns\",\"returns\",\"returns\",\"returns\",\"returns\",\"returns\",\"returns\",\"returns\",\"returns\",\"returns\",\"returns\",\"returns\",\"returns\",\"returns\",\"returns\",\"returns\",\"returns\",\"returns\",\"returns\",\"returns\",\"returns\",\"returns\",\"returns\",\"returns\",\"returns\",\"returns\",\"returns\",\"returns\",\"returns\",\"returns\",\"returns\",\"returns\",\"returns\",\"returns\",\"returns\",\"returns\",\"returns\",\"returns\",\"returns\",\"returns\",\"returns\",\"returns\",\"returns\",\"returns\",\"returns\",\"returns\",\"returns\",\"returns\",\"returns\",\"returns\",\"returns\",\"returns\",\"returns\",\"returns\",\"returns\",\"returns\",\"returns\",\"returns\",\"returns\",\"returns\",\"returns\",\"returns\",\"returns\",\"returns\",\"returns\",\"returns\",\"returns\",\"returns\",\"returns\",\"returns\",\"returns\",\"returns\",\"returns\",\"returns\",\"returns\",\"returns\",\"returns\",\"returns\",\"returns\",\"returns\",\"returns\",\"returns\",\"returns\",\"returns\",\"returns\",\"returns\",\"returns\",\"returns\",\"returns\",\"returns\",\"returns\",\"returns\",\"returns\",\"returns\",\"returns\",\"returns\",\"returns\",\"returns\",\"returns\",\"returns\",\"returns\",\"returns\",\"returns\",\"returns\",\"returns\",\"returns\",\"returns\",\"returns\",\"returns\",\"returns\",\"returns\",\"returns\",\"returns\",\"returns\",\"returns\",\"returns\",\"returns\",\"returns\",\"returns\",\"returns\",\"returns\",\"returns\",\"returns\",\"returns\",\"returns\",\"returns\",\"returns\",\"returns\",\"returns\",\"returns\",\"returns\",\"returns\",\"returns\",\"returns\",\"returns\",\"returns\",\"returns\",\"returns\",\"returns\",\"returns\",\"returns\",\"returns\",\"returns\",\"returns\",\"returns\",\"returns\",\"returns\",\"returns\",\"returns\",\"returns\",\"returns\",\"returns\",\"returns\",\"returns\",\"returns\",\"returns\",\"returns\",\"returns\",\"returns\",\"returns\",\"returns\",\"returns\",\"returns\",\"returns\",\"returns\",\"returns\",\"returns\",\"returns\",\"returns\",\"returns\",\"returns\",\"returns\",\"returns\",\"returns\",\"returns\",\"returns\",\"returns\",\"returns\",\"returns\",\"returns\",\"returns\",\"returns\",\"returns\",\"returns\",\"returns\",\"returns\",\"returns\",\"returns\",\"returns\",\"returns\",\"returns\",\"returns\",\"returns\",\"returns\",\"returns\",\"returns\",\"returns\",\"returns\",\"returns\",\"returns\",\"returns\",\"returns\",\"returns\",\"returns\",\"returns\",\"returns\",\"returns\",\"returns\",\"returns\",\"returns\",\"returns\",\"returns\",\"returns\",\"returns\",\"returns\",\"returns\",\"returns\",\"returns\",\"returns\",\"returns\",\"returns\",\"returns\",\"returns\",\"returns\",\"returns\",\"returns\",\"returns\",\"returns\",\"returns\",\"returns\",\"returns\",\"returns\",\"returns\",\"returns\",\"returns\",\"returns\",\"returns\",\"returns\",\"returns\",\"returns\",\"returns\",\"returns\",\"returns\",\"returns\",\"returns\",\"returns\",\"returns\",\"returns\",\"returns\",\"returns\",\"returns\",\"returns\",\"returns\",\"returns\",\"returns\",\"returns\",\"returns\",\"returns\",\"returns\",\"returns\",\"returns\",\"returns\",\"returns\",\"returns\",\"returns\",\"returns\",\"returns\",\"returns\",\"returns\",\"returns\",\"returns\",\"returns\",\"returns\",\"returns\",\"returns\",\"returns\",\"returns\",\"returns\",\"returns\",\"returns\",\"returns\",\"returns\",\"returns\",\"returns\",\"returns\",\"returns\",\"returns\",\"returns\",\"returns\",\"returns\",\"returns\",\"returns\",\"returns\",\"returns\",\"returns\",\"returns\",\"returns\",\"returns\",\"returns\",\"returns\",\"returns\",\"returns\",\"returns\",\"returns\",\"returns\",\"returns\",\"returns\",\"returns\",\"returns\",\"returns\",\"returns\",\"returns\",\"returns\",\"returns\",\"returns\",\"returns\",\"returns\",\"returns\",\"returns\",\"returns\",\"returns\",\"returns\",\"returns\",\"returns\",\"returns\",\"returns\",\"returns\",\"returns\",\"returns\",\"returns\",\"returns\",\"returns\",\"returns\",\"returns\",\"returns\",\"returns\",\"returns\",\"returns\",\"returns\",\"returns\",\"returns\",\"returns\",\"returns\",\"returns\",\"returns\",\"returns\",\"returns\",\"returns\",\"returns\",\"returns\",\"returns\",\"returns\",\"returns\",\"returns\",\"returns\",\"returns\",\"returns\",\"returns\",\"returns\",\"returns\",\"returns\",\"returns\",\"returns\",\"returns\",\"returns\",\"returns\",\"returns\",\"returns\",\"returns\",\"returns\",\"returns\",\"returns\",\"returns\",\"returns\",\"returns\",\"returns\",\"returns\",\"returns\",\"returns\",\"returns\",\"returns\",\"returns\",\"returns\",\"returns\",\"returns\",\"returns\",\"returns\",\"returns\",\"returns\",\"returns\",\"returns\",\"returns\",\"returns\",\"returns\",\"returns\",\"returns\",\"returns\",\"returns\",\"returns\",\"returns\",\"returns\",\"returns\",\"returns\",\"returns\",\"returns\",\"returns\",\"returns\",\"returns\",\"returns\",\"returns\",\"returns\",\"returns\",\"returns\",\"returns\",\"returns\",\"returns\",\"returns\",\"returns\",\"returns\",\"returns\",\"returns\",\"returns\",\"returns\",\"returns\",\"returns\",\"returns\",\"returns\",\"returns\",\"returns\",\"returns\",\"returns\",\"returns\",\"returns\",\"returns\",\"returns\",\"returns\",\"returns\",\"returns\",\"returns\",\"returns\",\"returns\",\"returns\",\"returns\",\"returns\",\"returns\",\"returns\",\"returns\",\"returns\",\"returns\",\"returns\",\"returns\",\"returns\",\"returns\",\"returns\",\"returns\",\"returns\",\"returns\",\"returns\",\"returns\",\"returns\",\"returns\",\"returns\",\"returns\",\"returns\",\"returns\",\"returns\",\"returns\",\"returns\",\"returns\",\"returns\",\"returns\",\"returns\",\"returns\",\"returns\",\"returns\",\"returns\",\"returns\",\"returns\",\"returns\",\"returns\",\"returns\",\"returns\",\"returns\",\"returns\",\"returns\",\"returns\",\"returns\",\"returns\",\"returns\",\"returns\",\"returns\",\"returns\",\"returns\",\"returns\",\"returns\",\"returns\",\"returns\",\"returns\",\"returns\",\"returns\",\"returns\",\"returns\",\"returns\",\"returns\",\"returns\",\"returns\",\"returns\",\"returns\",\"returns\",\"returns\",\"returns\",\"returns\",\"returns\",\"returns\",\"returns\",\"returns\",\"returns\",\"returns\",\"returns\",\"returns\",\"returns\",\"returns\",\"returns\",\"returns\",\"returns\",\"returns\",\"returns\",\"returns\",\"returns\",\"returns\",\"returns\",\"returns\",\"returns\",\"returns\",\"returns\",\"returns\",\"returns\",\"returns\",\"returns\",\"returns\",\"returns\",\"returns\",\"returns\",\"returns\",\"returns\",\"returns\"],\"time\":{\"__ndarray__\":\"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\",\"dtype\":\"float64\",\"order\":\"little\",\"shape\":[991]},\"value\":{\"__ndarray__\":\"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\",\"dtype\":\"float64\",\"order\":\"little\",\"shape\":[991]}},\"selected\":{\"id\":\"2866\"},\"selection_policy\":{\"id\":\"2882\"}},\"id\":\"2865\",\"type\":\"ColumnDataSource\"},{\"attributes\":{\"source\":{\"id\":\"2832\"}},\"id\":\"2839\",\"type\":\"CDSView\"},{\"attributes\":{\"base\":60,\"mantissas\":[1,2,5,10,15,20,30],\"max_interval\":1800000.0,\"min_interval\":1000.0,\"num_minor_ticks\":0},\"id\":\"2851\",\"type\":\"AdaptiveTicker\"},{\"attributes\":{\"click_policy\":\"mute\",\"items\":[{\"id\":\"2863\"},{\"id\":\"2897\"}],\"location\":[0,0],\"title\":\"Variable\"},\"id\":\"2862\",\"type\":\"Legend\"},{\"attributes\":{\"label\":{\"value\":\"strategy returns\"},\"renderers\":[{\"id\":\"2838\"}]},\"id\":\"2863\",\"type\":\"LegendItem\"},{\"attributes\":{},\"id\":\"2803\",\"type\":\"LinearScale\"},{\"attributes\":{\"days\":[1,2,3,4,5,6,7,8,9,10,11,12,13,14,15,16,17,18,19,20,21,22,23,24,25,26,27,28,29,30,31]},\"id\":\"2853\",\"type\":\"DaysTicker\"},{\"attributes\":{\"num_minor_ticks\":5,\"tickers\":[{\"id\":\"2850\"},{\"id\":\"2851\"},{\"id\":\"2852\"},{\"id\":\"2853\"},{\"id\":\"2854\"},{\"id\":\"2855\"},{\"id\":\"2856\"},{\"id\":\"2857\"},{\"id\":\"2858\"},{\"id\":\"2859\"},{\"id\":\"2860\"},{\"id\":\"2861\"}]},\"id\":\"2806\",\"type\":\"DatetimeTicker\"},{\"attributes\":{},\"id\":\"2861\",\"type\":\"YearsTicker\"},{\"attributes\":{},\"id\":\"2815\",\"type\":\"WheelZoomTool\"},{\"attributes\":{\"line_color\":\"#30a2da\",\"line_width\":2,\"x\":{\"field\":\"time\"},\"y\":{\"field\":\"value\"}},\"id\":\"2864\",\"type\":\"Line\"},{\"attributes\":{\"line_color\":\"#fc4f30\",\"line_width\":2,\"x\":{\"field\":\"time\"},\"y\":{\"field\":\"value\"}},\"id\":\"2898\",\"type\":\"Line\"},{\"attributes\":{},\"id\":\"2813\",\"type\":\"SaveTool\"},{\"attributes\":{\"months\":[0,2,4,6,8,10]},\"id\":\"2858\",\"type\":\"MonthsTicker\"},{\"attributes\":{\"axis\":{\"id\":\"2805\"},\"grid_line_color\":null,\"ticker\":null},\"id\":\"2808\",\"type\":\"Grid\"},{\"attributes\":{\"text_color\":\"black\",\"text_font_size\":\"12pt\"},\"id\":\"2797\",\"type\":\"Title\"},{\"attributes\":{\"months\":[0,6]},\"id\":\"2860\",\"type\":\"MonthsTicker\"},{\"attributes\":{},\"id\":\"2828\",\"type\":\"AllLabels\"},{\"attributes\":{\"axis\":{\"id\":\"2809\"},\"dimension\":1,\"grid_line_color\":null,\"ticker\":null},\"id\":\"2812\",\"type\":\"Grid\"},{\"attributes\":{},\"id\":\"2814\",\"type\":\"PanTool\"},{\"attributes\":{\"margin\":[5,5,5,5],\"name\":\"HSpacer03432\",\"sizing_mode\":\"stretch_width\"},\"id\":\"3115\",\"type\":\"Spacer\"},{\"attributes\":{\"data_source\":{\"id\":\"2832\"},\"glyph\":{\"id\":\"2835\"},\"hover_glyph\":null,\"muted_glyph\":{\"id\":\"2837\"},\"nonselection_glyph\":{\"id\":\"2836\"},\"selection_glyph\":{\"id\":\"2864\"},\"view\":{\"id\":\"2839\"}},\"id\":\"2838\",\"type\":\"GlyphRenderer\"}],\"root_ids\":[\"2790\"]},\"title\":\"Bokeh Application\",\"version\":\"2.3.2\"}};\n",
       "    var render_items = [{\"docid\":\"b4e943aa-5135-468d-ba60-ee3082c4c349\",\"root_ids\":[\"2790\"],\"roots\":{\"2790\":\"3228e7b6-5245-43a3-b3c1-019cc13d8e77\"}}];\n",
       "    root.Bokeh.embed.embed_items_notebook(docs_json, render_items);\n",
       "  }\n",
       "  if (root.Bokeh !== undefined && root.Bokeh.Panel !== undefined) {\n",
       "    embed_document(root);\n",
       "  } else {\n",
       "    var attempts = 0;\n",
       "    var timer = setInterval(function(root) {\n",
       "      if (root.Bokeh !== undefined && root.Bokeh.Panel !== undefined) {\n",
       "        clearInterval(timer);\n",
       "        embed_document(root);\n",
       "      } else if (document.readyState == \"complete\") {\n",
       "        attempts++;\n",
       "        if (attempts > 100) {\n",
       "          clearInterval(timer);\n",
       "          console.log(\"Bokeh: ERROR: Unable to run BokehJS code because BokehJS library is missing\");\n",
       "        }\n",
       "      }\n",
       "    }, 10, root)\n",
       "  }\n",
       "})(window);</script>"
      ],
      "text/plain": [
       ":NdOverlay   [Variable]\n",
       "   :Curve   [time]   (value)"
      ]
     },
     "execution_count": 122,
     "metadata": {
      "application/vnd.holoviews_exec.v0+json": {
       "id": "2790"
      }
     },
     "output_type": "execute_result"
    }
   ],
   "source": [
    "(1 + SPY_signals[['strategy returns','returns']]).cumprod().hvplot()"
   ]
  },
  {
   "cell_type": "markdown",
   "id": "351b9ad9",
   "metadata": {},
   "source": [
    "---\n",
    "\n",
    "### Generating the Features and Target Sets"
   ]
  },
  {
   "cell_type": "markdown",
   "id": "1b34ed0e",
   "metadata": {},
   "source": [
    "#### Create the features set"
   ]
  },
  {
   "cell_type": "code",
   "execution_count": 123,
   "id": "d39d0c8a",
   "metadata": {},
   "outputs": [
    {
     "data": {
      "text/html": [
       "<div>\n",
       "<style scoped>\n",
       "    .dataframe tbody tr th:only-of-type {\n",
       "        vertical-align: middle;\n",
       "    }\n",
       "\n",
       "    .dataframe tbody tr th {\n",
       "        vertical-align: top;\n",
       "    }\n",
       "\n",
       "    .dataframe thead th {\n",
       "        text-align: right;\n",
       "    }\n",
       "</style>\n",
       "<table border=\"1\" class=\"dataframe\">\n",
       "  <thead>\n",
       "    <tr style=\"text-align: right;\">\n",
       "      <th></th>\n",
       "      <th>SMA_Fast</th>\n",
       "      <th>SMA_Slow</th>\n",
       "    </tr>\n",
       "    <tr>\n",
       "      <th>time</th>\n",
       "      <th></th>\n",
       "      <th></th>\n",
       "    </tr>\n",
       "  </thead>\n",
       "  <tbody>\n",
       "    <tr>\n",
       "      <th>2021-07-19 16:15:00-04:00</th>\n",
       "      <td>424.920000</td>\n",
       "      <td>423.424444</td>\n",
       "    </tr>\n",
       "    <tr>\n",
       "      <th>2021-07-19 16:30:00-04:00</th>\n",
       "      <td>425.150000</td>\n",
       "      <td>423.647778</td>\n",
       "    </tr>\n",
       "    <tr>\n",
       "      <th>2021-07-20 08:00:00-04:00</th>\n",
       "      <td>425.743333</td>\n",
       "      <td>424.167778</td>\n",
       "    </tr>\n",
       "    <tr>\n",
       "      <th>2021-07-20 08:15:00-04:00</th>\n",
       "      <td>426.256667</td>\n",
       "      <td>424.643333</td>\n",
       "    </tr>\n",
       "    <tr>\n",
       "      <th>2021-07-20 08:30:00-04:00</th>\n",
       "      <td>426.620000</td>\n",
       "      <td>425.018889</td>\n",
       "    </tr>\n",
       "  </tbody>\n",
       "</table>\n",
       "</div>"
      ],
      "text/plain": [
       "                             SMA_Fast    SMA_Slow\n",
       "time                                             \n",
       "2021-07-19 16:15:00-04:00  424.920000  423.424444\n",
       "2021-07-19 16:30:00-04:00  425.150000  423.647778\n",
       "2021-07-20 08:00:00-04:00  425.743333  424.167778\n",
       "2021-07-20 08:15:00-04:00  426.256667  424.643333\n",
       "2021-07-20 08:30:00-04:00  426.620000  425.018889"
      ]
     },
     "metadata": {},
     "output_type": "display_data"
    },
    {
     "data": {
      "text/html": [
       "<div>\n",
       "<style scoped>\n",
       "    .dataframe tbody tr th:only-of-type {\n",
       "        vertical-align: middle;\n",
       "    }\n",
       "\n",
       "    .dataframe tbody tr th {\n",
       "        vertical-align: top;\n",
       "    }\n",
       "\n",
       "    .dataframe thead th {\n",
       "        text-align: right;\n",
       "    }\n",
       "</style>\n",
       "<table border=\"1\" class=\"dataframe\">\n",
       "  <thead>\n",
       "    <tr style=\"text-align: right;\">\n",
       "      <th></th>\n",
       "      <th>SMA_Fast</th>\n",
       "      <th>SMA_Slow</th>\n",
       "    </tr>\n",
       "    <tr>\n",
       "      <th>time</th>\n",
       "      <th></th>\n",
       "      <th></th>\n",
       "    </tr>\n",
       "  </thead>\n",
       "  <tbody>\n",
       "    <tr>\n",
       "      <th>2021-08-31 15:30:00-04:00</th>\n",
       "      <td>451.481667</td>\n",
       "      <td>451.628889</td>\n",
       "    </tr>\n",
       "    <tr>\n",
       "      <th>2021-08-31 15:45:00-04:00</th>\n",
       "      <td>451.540000</td>\n",
       "      <td>451.619444</td>\n",
       "    </tr>\n",
       "    <tr>\n",
       "      <th>2021-08-31 16:00:00-04:00</th>\n",
       "      <td>451.856667</td>\n",
       "      <td>451.660556</td>\n",
       "    </tr>\n",
       "    <tr>\n",
       "      <th>2021-08-31 16:15:00-04:00</th>\n",
       "      <td>452.030000</td>\n",
       "      <td>451.725556</td>\n",
       "    </tr>\n",
       "    <tr>\n",
       "      <th>2021-08-31 16:45:00-04:00</th>\n",
       "      <td>452.300000</td>\n",
       "      <td>451.816667</td>\n",
       "    </tr>\n",
       "  </tbody>\n",
       "</table>\n",
       "</div>"
      ],
      "text/plain": [
       "                             SMA_Fast    SMA_Slow\n",
       "time                                             \n",
       "2021-08-31 15:30:00-04:00  451.481667  451.628889\n",
       "2021-08-31 15:45:00-04:00  451.540000  451.619444\n",
       "2021-08-31 16:00:00-04:00  451.856667  451.660556\n",
       "2021-08-31 16:15:00-04:00  452.030000  451.725556\n",
       "2021-08-31 16:45:00-04:00  452.300000  451.816667"
      ]
     },
     "metadata": {},
     "output_type": "display_data"
    }
   ],
   "source": [
    "# Assign a copy of the sma_fast and sma_slow columns to a new DataFrame called X\n",
    "X = SPY_signals[['SMA_Fast', 'SMA_Slow']].copy()\n",
    "\n",
    "# Display sample data\n",
    "display(X.head())\n",
    "display(X.tail())"
   ]
  },
  {
   "cell_type": "markdown",
   "id": "2a7291a2",
   "metadata": {},
   "source": [
    "#### Create the target set"
   ]
  },
  {
   "cell_type": "code",
   "execution_count": 124,
   "id": "b001ff34",
   "metadata": {},
   "outputs": [],
   "source": [
    "# Create a new column in the SPY_signals called signal setting its value to zero.\n",
    "SPY_signals['signal'] = 0.0"
   ]
  },
  {
   "cell_type": "code",
   "execution_count": 125,
   "id": "5f9f3ef9",
   "metadata": {},
   "outputs": [],
   "source": [
    "# Create the signal to buy\n",
    "SPY_signals.loc[(SPY_signals['returns'] >= 0), 'signal'] = 1"
   ]
  },
  {
   "cell_type": "code",
   "execution_count": 126,
   "id": "3bfc4646",
   "metadata": {},
   "outputs": [],
   "source": [
    "# Create the signal to sell\n",
    "SPY_signals.loc[(SPY_signals['returns'] < 0), 'signal'] = -1"
   ]
  },
  {
   "cell_type": "code",
   "execution_count": 127,
   "id": "bbf9215a",
   "metadata": {},
   "outputs": [
    {
     "data": {
      "text/plain": [
       "time\n",
       "2021-07-19 16:15:00-04:00    1.0\n",
       "2021-07-19 16:30:00-04:00    1.0\n",
       "2021-07-20 08:00:00-04:00    1.0\n",
       "2021-07-20 08:15:00-04:00   -1.0\n",
       "2021-07-20 08:30:00-04:00   -1.0\n",
       "Name: signal, dtype: float64"
      ]
     },
     "metadata": {},
     "output_type": "display_data"
    },
    {
     "data": {
      "text/plain": [
       "time\n",
       "2021-08-31 15:30:00-04:00    1.0\n",
       "2021-08-31 15:45:00-04:00   -1.0\n",
       "2021-08-31 16:00:00-04:00    1.0\n",
       "2021-08-31 16:15:00-04:00    1.0\n",
       "2021-08-31 16:45:00-04:00    1.0\n",
       "Name: signal, dtype: float64"
      ]
     },
     "metadata": {},
     "output_type": "display_data"
    }
   ],
   "source": [
    "# Copy the new signal column to a new Series called y.\n",
    "y = SPY_signals['signal'].copy()\n",
    "\n",
    "display(y.head())\n",
    "display(y.tail())"
   ]
  },
  {
   "cell_type": "markdown",
   "id": "8294dff8",
   "metadata": {},
   "source": [
    "---\n",
    "\n",
    "### Split the Data Into Training and Testing Datasets"
   ]
  },
  {
   "cell_type": "markdown",
   "id": "1f5619cf",
   "metadata": {},
   "source": [
    "#### Creating the Training Datasets"
   ]
  },
  {
   "cell_type": "code",
   "execution_count": 128,
   "id": "bbc189e4",
   "metadata": {},
   "outputs": [],
   "source": [
    "# Imports \n",
    "from pandas.tseries.offsets import DateOffset"
   ]
  },
  {
   "cell_type": "code",
   "execution_count": 129,
   "id": "d2596eb1",
   "metadata": {},
   "outputs": [
    {
     "name": "stdout",
     "output_type": "stream",
     "text": [
      "2021-07-19 16:15:00-04:00\n"
     ]
    }
   ],
   "source": [
    "# Select the start of the training period\n",
    "training_begin = X.index.min()\n",
    "\n",
    "# Display the training begin date\n",
    "print(training_begin)"
   ]
  },
  {
   "cell_type": "code",
   "execution_count": 133,
   "id": "f529fb26",
   "metadata": {},
   "outputs": [
    {
     "name": "stdout",
     "output_type": "stream",
     "text": [
      "2021-08-19 16:15:00-04:00\n"
     ]
    }
   ],
   "source": [
    "# Select the ending period for the training data with an offset of 3 months\n",
    "training_end = X.index.min() + DateOffset(months=1)\n",
    "\n",
    "# Display the training end date\n",
    "print(training_end)"
   ]
  },
  {
   "cell_type": "code",
   "execution_count": 134,
   "id": "c586e33d",
   "metadata": {},
   "outputs": [
    {
     "data": {
      "text/html": [
       "<div>\n",
       "<style scoped>\n",
       "    .dataframe tbody tr th:only-of-type {\n",
       "        vertical-align: middle;\n",
       "    }\n",
       "\n",
       "    .dataframe tbody tr th {\n",
       "        vertical-align: top;\n",
       "    }\n",
       "\n",
       "    .dataframe thead th {\n",
       "        text-align: right;\n",
       "    }\n",
       "</style>\n",
       "<table border=\"1\" class=\"dataframe\">\n",
       "  <thead>\n",
       "    <tr style=\"text-align: right;\">\n",
       "      <th></th>\n",
       "      <th>SMA_Fast</th>\n",
       "      <th>SMA_Slow</th>\n",
       "    </tr>\n",
       "    <tr>\n",
       "      <th>time</th>\n",
       "      <th></th>\n",
       "      <th></th>\n",
       "    </tr>\n",
       "  </thead>\n",
       "  <tbody>\n",
       "    <tr>\n",
       "      <th>2021-07-19 16:15:00-04:00</th>\n",
       "      <td>424.920000</td>\n",
       "      <td>423.424444</td>\n",
       "    </tr>\n",
       "    <tr>\n",
       "      <th>2021-07-19 16:30:00-04:00</th>\n",
       "      <td>425.150000</td>\n",
       "      <td>423.647778</td>\n",
       "    </tr>\n",
       "    <tr>\n",
       "      <th>2021-07-20 08:00:00-04:00</th>\n",
       "      <td>425.743333</td>\n",
       "      <td>424.167778</td>\n",
       "    </tr>\n",
       "    <tr>\n",
       "      <th>2021-07-20 08:15:00-04:00</th>\n",
       "      <td>426.256667</td>\n",
       "      <td>424.643333</td>\n",
       "    </tr>\n",
       "    <tr>\n",
       "      <th>2021-07-20 08:30:00-04:00</th>\n",
       "      <td>426.620000</td>\n",
       "      <td>425.018889</td>\n",
       "    </tr>\n",
       "  </tbody>\n",
       "</table>\n",
       "</div>"
      ],
      "text/plain": [
       "                             SMA_Fast    SMA_Slow\n",
       "time                                             \n",
       "2021-07-19 16:15:00-04:00  424.920000  423.424444\n",
       "2021-07-19 16:30:00-04:00  425.150000  423.647778\n",
       "2021-07-20 08:00:00-04:00  425.743333  424.167778\n",
       "2021-07-20 08:15:00-04:00  426.256667  424.643333\n",
       "2021-07-20 08:30:00-04:00  426.620000  425.018889"
      ]
     },
     "execution_count": 134,
     "metadata": {},
     "output_type": "execute_result"
    }
   ],
   "source": [
    "# Generate the X_train and y_train DataFrames\n",
    "X_train = X.loc[training_begin:training_end]\n",
    "y_train = y.loc[training_begin:training_end]\n",
    "\n",
    "# Display sample data\n",
    "X_train.head()"
   ]
  },
  {
   "cell_type": "code",
   "execution_count": 135,
   "id": "d95a77c2",
   "metadata": {},
   "outputs": [
    {
     "data": {
      "text/html": [
       "<div>\n",
       "<style scoped>\n",
       "    .dataframe tbody tr th:only-of-type {\n",
       "        vertical-align: middle;\n",
       "    }\n",
       "\n",
       "    .dataframe tbody tr th {\n",
       "        vertical-align: top;\n",
       "    }\n",
       "\n",
       "    .dataframe thead th {\n",
       "        text-align: right;\n",
       "    }\n",
       "</style>\n",
       "<table border=\"1\" class=\"dataframe\">\n",
       "  <thead>\n",
       "    <tr style=\"text-align: right;\">\n",
       "      <th></th>\n",
       "      <th>SMA_Fast</th>\n",
       "      <th>SMA_Slow</th>\n",
       "    </tr>\n",
       "    <tr>\n",
       "      <th>time</th>\n",
       "      <th></th>\n",
       "      <th></th>\n",
       "    </tr>\n",
       "  </thead>\n",
       "  <tbody>\n",
       "    <tr>\n",
       "      <th>2021-08-19 16:15:00-04:00</th>\n",
       "      <td>439.996667</td>\n",
       "      <td>439.710000</td>\n",
       "    </tr>\n",
       "    <tr>\n",
       "      <th>2021-08-19 16:30:00-04:00</th>\n",
       "      <td>440.003333</td>\n",
       "      <td>439.908889</td>\n",
       "    </tr>\n",
       "    <tr>\n",
       "      <th>2021-08-19 16:45:00-04:00</th>\n",
       "      <td>439.970000</td>\n",
       "      <td>440.056111</td>\n",
       "    </tr>\n",
       "    <tr>\n",
       "      <th>2021-08-20 08:30:00-04:00</th>\n",
       "      <td>439.626667</td>\n",
       "      <td>439.975000</td>\n",
       "    </tr>\n",
       "    <tr>\n",
       "      <th>2021-08-20 09:00:00-04:00</th>\n",
       "      <td>439.726667</td>\n",
       "      <td>440.000556</td>\n",
       "    </tr>\n",
       "  </tbody>\n",
       "</table>\n",
       "</div>"
      ],
      "text/plain": [
       "                             SMA_Fast    SMA_Slow\n",
       "time                                             \n",
       "2021-08-19 16:15:00-04:00  439.996667  439.710000\n",
       "2021-08-19 16:30:00-04:00  440.003333  439.908889\n",
       "2021-08-19 16:45:00-04:00  439.970000  440.056111\n",
       "2021-08-20 08:30:00-04:00  439.626667  439.975000\n",
       "2021-08-20 09:00:00-04:00  439.726667  440.000556"
      ]
     },
     "execution_count": 135,
     "metadata": {},
     "output_type": "execute_result"
    }
   ],
   "source": [
    "# Generate the X_test and y_test DataFrames\n",
    "X_test = X.loc[training_end:]\n",
    "y_test = y.loc[training_end:]\n",
    "\n",
    "# Display sample data\n",
    "X_test.head()"
   ]
  },
  {
   "cell_type": "markdown",
   "id": "824e7885",
   "metadata": {},
   "source": [
    "#### Standardizing the Data"
   ]
  },
  {
   "cell_type": "code",
   "execution_count": 136,
   "id": "32f7c37a",
   "metadata": {},
   "outputs": [],
   "source": [
    "# Imports\n",
    "from sklearn.preprocessing import StandardScaler"
   ]
  },
  {
   "cell_type": "code",
   "execution_count": 137,
   "id": "1b8a3888",
   "metadata": {},
   "outputs": [],
   "source": [
    "# Create a StandardScaler instance\n",
    "scaler = StandardScaler()\n",
    " \n",
    "# Apply the scaler model to fit the X-train data\n",
    "X_scaler = scaler.fit(X_train)\n",
    " \n",
    "# Transform the X_train and X_test DataFrames using the X_scaler\n",
    "X_train_scaled = X_scaler.transform(X_train)\n",
    "X_test_scaled = X_scaler.transform(X_test)"
   ]
  },
  {
   "cell_type": "markdown",
   "id": "7a2bbc02",
   "metadata": {},
   "source": [
    "---\n",
    "\n",
    "### Incorporate the SVM Machine Learning Into the Trading Strategy"
   ]
  },
  {
   "cell_type": "code",
   "execution_count": 139,
   "id": "1ded30f3",
   "metadata": {},
   "outputs": [],
   "source": [
    "# Imports\n",
    "from sklearn import svm\n",
    "from sklearn.metrics import classification_report"
   ]
  },
  {
   "cell_type": "code",
   "execution_count": 140,
   "id": "f22dd780",
   "metadata": {},
   "outputs": [
    {
     "data": {
      "text/plain": [
       "array([1., 1., 1., 1., 1., 1., 1., 1., 1., 1.])"
      ]
     },
     "execution_count": 140,
     "metadata": {},
     "output_type": "execute_result"
    }
   ],
   "source": [
    "# Create the classifier model\n",
    "svm_model = svm.SVC()\n",
    " \n",
    "# Fit the model to the data using X_train_scaled and y_train\n",
    "svm_model = svm_model.fit(X_train_scaled, y_train)\n",
    "\n",
    "# Use the trained model to predict the trading signals for the training data\n",
    "training_signal_predictions = svm_model.predict(X_train_scaled)\n",
    "\n",
    "# Display the sample predictions\n",
    "training_signal_predictions[:10]"
   ]
  },
  {
   "cell_type": "code",
   "execution_count": 141,
   "id": "7ce50005",
   "metadata": {},
   "outputs": [
    {
     "name": "stderr",
     "output_type": "stream",
     "text": [
      "C:\\Users\\nehaja\\Anaconda3\\envs\\dev\\lib\\site-packages\\sklearn\\metrics\\_classification.py:1248: UndefinedMetricWarning: Precision and F-score are ill-defined and being set to 0.0 in labels with no predicted samples. Use `zero_division` parameter to control this behavior.\n",
      "  _warn_prf(average, modifier, msg_start, len(result))\n",
      "C:\\Users\\nehaja\\Anaconda3\\envs\\dev\\lib\\site-packages\\sklearn\\metrics\\_classification.py:1248: UndefinedMetricWarning: Precision and F-score are ill-defined and being set to 0.0 in labels with no predicted samples. Use `zero_division` parameter to control this behavior.\n",
      "  _warn_prf(average, modifier, msg_start, len(result))\n",
      "C:\\Users\\nehaja\\Anaconda3\\envs\\dev\\lib\\site-packages\\sklearn\\metrics\\_classification.py:1248: UndefinedMetricWarning: Precision and F-score are ill-defined and being set to 0.0 in labels with no predicted samples. Use `zero_division` parameter to control this behavior.\n",
      "  _warn_prf(average, modifier, msg_start, len(result))\n"
     ]
    },
    {
     "name": "stdout",
     "output_type": "stream",
     "text": [
      "              precision    recall  f1-score   support\n",
      "\n",
      "        -1.0       0.00      0.00      0.00       332\n",
      "         1.0       0.55      1.00      0.71       405\n",
      "\n",
      "    accuracy                           0.55       737\n",
      "   macro avg       0.27      0.50      0.35       737\n",
      "weighted avg       0.30      0.55      0.39       737\n",
      "\n"
     ]
    }
   ],
   "source": [
    "# Evaluate the model using a classification report\n",
    "training_report = classification_report(y_train, training_signal_predictions)\n",
    "print(training_report)"
   ]
  },
  {
   "cell_type": "markdown",
   "id": "a63c9302",
   "metadata": {},
   "source": [
    "---\n",
    "\n",
    "### Backtesting a Machine Learning Trading Algorithm"
   ]
  },
  {
   "cell_type": "code",
   "execution_count": 142,
   "id": "27a14d5f",
   "metadata": {},
   "outputs": [],
   "source": [
    "# Use the trained model to predict the trading signals for the testing data.\n",
    "testing_signal_predictions = svm_model.predict(X_test_scaled)"
   ]
  },
  {
   "cell_type": "code",
   "execution_count": 143,
   "id": "cce48908",
   "metadata": {},
   "outputs": [
    {
     "name": "stderr",
     "output_type": "stream",
     "text": [
      "C:\\Users\\nehaja\\Anaconda3\\envs\\dev\\lib\\site-packages\\sklearn\\metrics\\_classification.py:1248: UndefinedMetricWarning: Precision and F-score are ill-defined and being set to 0.0 in labels with no predicted samples. Use `zero_division` parameter to control this behavior.\n",
      "  _warn_prf(average, modifier, msg_start, len(result))\n",
      "C:\\Users\\nehaja\\Anaconda3\\envs\\dev\\lib\\site-packages\\sklearn\\metrics\\_classification.py:1248: UndefinedMetricWarning: Precision and F-score are ill-defined and being set to 0.0 in labels with no predicted samples. Use `zero_division` parameter to control this behavior.\n",
      "  _warn_prf(average, modifier, msg_start, len(result))\n",
      "C:\\Users\\nehaja\\Anaconda3\\envs\\dev\\lib\\site-packages\\sklearn\\metrics\\_classification.py:1248: UndefinedMetricWarning: Precision and F-score are ill-defined and being set to 0.0 in labels with no predicted samples. Use `zero_division` parameter to control this behavior.\n",
      "  _warn_prf(average, modifier, msg_start, len(result))\n"
     ]
    },
    {
     "name": "stdout",
     "output_type": "stream",
     "text": [
      "              precision    recall  f1-score   support\n",
      "\n",
      "        -1.0       0.00      0.00      0.00       106\n",
      "         1.0       0.58      1.00      0.74       149\n",
      "\n",
      "    accuracy                           0.58       255\n",
      "   macro avg       0.29      0.50      0.37       255\n",
      "weighted avg       0.34      0.58      0.43       255\n",
      "\n"
     ]
    }
   ],
   "source": [
    "# Evaluate the model's ability to predict the trading signal for the testing data\n",
    "svm_testing_report = classification_report(y_test, testing_signal_predictions)\n",
    "print(svm_testing_report)"
   ]
  },
  {
   "cell_type": "code",
   "execution_count": 144,
   "id": "ec04c115",
   "metadata": {},
   "outputs": [
    {
     "data": {
      "text/html": [
       "<div>\n",
       "<style scoped>\n",
       "    .dataframe tbody tr th:only-of-type {\n",
       "        vertical-align: middle;\n",
       "    }\n",
       "\n",
       "    .dataframe tbody tr th {\n",
       "        vertical-align: top;\n",
       "    }\n",
       "\n",
       "    .dataframe thead th {\n",
       "        text-align: right;\n",
       "    }\n",
       "</style>\n",
       "<table border=\"1\" class=\"dataframe\">\n",
       "  <thead>\n",
       "    <tr style=\"text-align: right;\">\n",
       "      <th></th>\n",
       "      <th>predicted_signal</th>\n",
       "      <th>actual_returns</th>\n",
       "      <th>trading_algorithm_returns</th>\n",
       "    </tr>\n",
       "    <tr>\n",
       "      <th>time</th>\n",
       "      <th></th>\n",
       "      <th></th>\n",
       "      <th></th>\n",
       "    </tr>\n",
       "  </thead>\n",
       "  <tbody>\n",
       "    <tr>\n",
       "      <th>2021-08-19 16:15:00-04:00</th>\n",
       "      <td>1.0</td>\n",
       "      <td>-0.000341</td>\n",
       "      <td>-0.000341</td>\n",
       "    </tr>\n",
       "    <tr>\n",
       "      <th>2021-08-19 16:30:00-04:00</th>\n",
       "      <td>1.0</td>\n",
       "      <td>0.000091</td>\n",
       "      <td>0.000091</td>\n",
       "    </tr>\n",
       "    <tr>\n",
       "      <th>2021-08-19 16:45:00-04:00</th>\n",
       "      <td>1.0</td>\n",
       "      <td>0.000023</td>\n",
       "      <td>0.000023</td>\n",
       "    </tr>\n",
       "    <tr>\n",
       "      <th>2021-08-20 08:30:00-04:00</th>\n",
       "      <td>1.0</td>\n",
       "      <td>-0.002455</td>\n",
       "      <td>-0.002455</td>\n",
       "    </tr>\n",
       "    <tr>\n",
       "      <th>2021-08-20 09:00:00-04:00</th>\n",
       "      <td>1.0</td>\n",
       "      <td>0.003121</td>\n",
       "      <td>0.003121</td>\n",
       "    </tr>\n",
       "  </tbody>\n",
       "</table>\n",
       "</div>"
      ],
      "text/plain": [
       "                           predicted_signal  actual_returns  \\\n",
       "time                                                          \n",
       "2021-08-19 16:15:00-04:00               1.0       -0.000341   \n",
       "2021-08-19 16:30:00-04:00               1.0        0.000091   \n",
       "2021-08-19 16:45:00-04:00               1.0        0.000023   \n",
       "2021-08-20 08:30:00-04:00               1.0       -0.002455   \n",
       "2021-08-20 09:00:00-04:00               1.0        0.003121   \n",
       "\n",
       "                           trading_algorithm_returns  \n",
       "time                                                  \n",
       "2021-08-19 16:15:00-04:00                  -0.000341  \n",
       "2021-08-19 16:30:00-04:00                   0.000091  \n",
       "2021-08-19 16:45:00-04:00                   0.000023  \n",
       "2021-08-20 08:30:00-04:00                  -0.002455  \n",
       "2021-08-20 09:00:00-04:00                   0.003121  "
      ]
     },
     "execution_count": 144,
     "metadata": {},
     "output_type": "execute_result"
    }
   ],
   "source": [
    "# Create a new empty predictions DataFrame using code provided below.\n",
    "predictions_df = pd.DataFrame(index=X_test.index)\n",
    "predictions_df[\"predicted_signal\"] = testing_signal_predictions\n",
    "predictions_df[\"actual_returns\"] = SPY_signals[\"returns\"]\n",
    "predictions_df[\"trading_algorithm_returns\"] = predictions_df[\"actual_returns\"] * predictions_df[\"predicted_signal\"]\n",
    "predictions_df.head()"
   ]
  },
  {
   "cell_type": "code",
   "execution_count": 145,
   "id": "2385f382",
   "metadata": {},
   "outputs": [
    {
     "name": "stderr",
     "output_type": "stream",
     "text": [
      "\n",
      "Bad key \"text.kerning_factor\" on line 4 in\n",
      "C:\\Users\\nehaja\\Anaconda3\\envs\\dev\\lib\\site-packages\\matplotlib\\mpl-data\\stylelib\\_classic_test_patch.mplstyle.\n",
      "You probably need to get an updated matplotlibrc file from\n",
      "http://github.com/matplotlib/matplotlib/blob/master/matplotlibrc.template\n",
      "or from the matplotlib source distribution\n"
     ]
    },
    {
     "data": {
      "text/plain": [
       "<matplotlib.axes._subplots.AxesSubplot at 0x17704f7f948>"
      ]
     },
     "execution_count": 145,
     "metadata": {},
     "output_type": "execute_result"
    },
    {
     "data": {
      "image/png": "[encoded data removed]",
      "text/plain": [
       "<Figure size 432x288 with 1 Axes>"
      ]
     },
     "metadata": {
      "needs_background": "light"
     },
     "output_type": "display_data"
    }
   ],
   "source": [
    "# Calculate and plot the cumulative returns for the `actual_returns` and the `trading_algorithm_returns`\n",
    "(1 + predictions_df[[\"actual_returns\", \"trading_algorithm_returns\"]]).cumprod().plot()"
   ]
  },
  {
   "cell_type": "markdown",
   "id": "0a395ed9",
   "metadata": {},
   "source": [
    "---\n",
    "\n",
    "# Add a New Machine Learning Model"
   ]
  },
  {
   "cell_type": "markdown",
   "id": "fcb0b50f",
   "metadata": {},
   "source": [
    "## Step 2: Import the `LogisticRegression` model from scikit-learn.\n"
   ]
  },
  {
   "cell_type": "code",
   "execution_count": 147,
   "id": "25bf4bd0",
   "metadata": {},
   "outputs": [],
   "source": [
    "# Import LogisticRegression from sklearn\n",
    "from sklearn.linear_model import LogisticRegression"
   ]
  },
  {
   "cell_type": "code",
   "execution_count": 148,
   "id": "8ddfcc59",
   "metadata": {},
   "outputs": [],
   "source": [
    "# Create an instance of the LogisticRegression model\n",
    "logistic_regression_model = LogisticRegression()"
   ]
  },
  {
   "cell_type": "markdown",
   "id": "1b3bd9b7",
   "metadata": {},
   "source": [
    "## Step 3: Using the same training data that the SVM model used (`X_train_scaled` and `y_train`), fit the `LogisticRegression` model."
   ]
  },
  {
   "cell_type": "code",
   "execution_count": 149,
   "id": "82f7f001",
   "metadata": {},
   "outputs": [
    {
     "data": {
      "text/plain": [
       "LogisticRegression()"
      ]
     },
     "execution_count": 149,
     "metadata": {},
     "output_type": "execute_result"
    }
   ],
   "source": [
    "# Fit the LogisticRegression model\n",
    "logistic_regression_model.fit(X_train_scaled, y_train)"
   ]
  },
  {
   "cell_type": "markdown",
   "id": "ed2f7a6d",
   "metadata": {},
   "source": [
    "## Step 4: Use the trained model to predict the trading signals for the training data. Use the `classification_report` module to evaluate the model."
   ]
  },
  {
   "cell_type": "code",
   "execution_count": 150,
   "id": "93ee84b6",
   "metadata": {},
   "outputs": [
    {
     "data": {
      "text/plain": [
       "array([ 1.,  1.,  1.,  1.,  1.,  1.,  1.,  1.,  1.,  1.,  1.,  1.,  1.,\n",
       "        1.,  1.,  1.,  1.,  1.,  1.,  1.,  1.,  1.,  1.,  1.,  1.,  1.,\n",
       "        1.,  1.,  1.,  1.,  1.,  1.,  1.,  1.,  1.,  1.,  1.,  1.,  1.,\n",
       "        1.,  1.,  1.,  1.,  1.,  1.,  1.,  1.,  1.,  1.,  1.,  1.,  1.,\n",
       "        1.,  1.,  1.,  1.,  1.,  1.,  1.,  1.,  1.,  1.,  1.,  1.,  1.,\n",
       "        1.,  1.,  1.,  1.,  1.,  1.,  1.,  1.,  1.,  1.,  1.,  1.,  1.,\n",
       "        1.,  1.,  1.,  1.,  1.,  1.,  1.,  1.,  1.,  1.,  1.,  1.,  1.,\n",
       "        1.,  1.,  1.,  1.,  1.,  1.,  1.,  1.,  1.,  1.,  1.,  1.,  1.,\n",
       "        1.,  1.,  1.,  1.,  1.,  1.,  1.,  1.,  1.,  1.,  1.,  1.,  1.,\n",
       "        1.,  1.,  1.,  1.,  1.,  1.,  1.,  1.,  1.,  1.,  1.,  1.,  1.,\n",
       "        1.,  1.,  1.,  1.,  1.,  1.,  1.,  1.,  1.,  1.,  1.,  1.,  1.,\n",
       "        1.,  1.,  1.,  1.,  1.,  1.,  1.,  1.,  1.,  1.,  1.,  1.,  1.,\n",
       "        1.,  1.,  1.,  1.,  1.,  1.,  1.,  1.,  1.,  1., -1., -1., -1.,\n",
       "       -1.,  1.,  1.,  1.,  1.,  1., -1.,  1.,  1.,  1.,  1.,  1.,  1.,\n",
       "        1.,  1.,  1.,  1.,  1.,  1.,  1.,  1.,  1.,  1.,  1.,  1.,  1.,\n",
       "        1.,  1.,  1.,  1.,  1.,  1.,  1.,  1.,  1.,  1.,  1.,  1.,  1.,\n",
       "        1.,  1.,  1.,  1.,  1.,  1.,  1.,  1.,  1.,  1.,  1.,  1.,  1.,\n",
       "        1.,  1.,  1.,  1.,  1.,  1.,  1.,  1.,  1.,  1.,  1.,  1.,  1.,\n",
       "        1.,  1.,  1.,  1.,  1.,  1.,  1.,  1.,  1.,  1.,  1.,  1.,  1.,\n",
       "        1.,  1.,  1.,  1.,  1.,  1.,  1.,  1.,  1.,  1., -1., -1., -1.,\n",
       "       -1., -1.,  1.,  1.,  1.,  1.,  1.,  1.,  1.,  1.,  1.,  1.,  1.,\n",
       "        1.,  1.,  1.,  1.,  1.,  1.,  1.,  1.,  1.,  1.,  1.,  1.,  1.,\n",
       "        1.,  1.,  1.,  1.,  1.,  1.,  1.,  1.,  1.,  1.,  1.,  1.,  1.,\n",
       "        1.,  1.,  1.,  1.,  1., -1.,  1.,  1.,  1.,  1.,  1.,  1.,  1.,\n",
       "        1.,  1.,  1.,  1.,  1.,  1.,  1.,  1.,  1.,  1.,  1.,  1.,  1.,\n",
       "        1.,  1.,  1., -1.,  1.,  1.,  1.,  1.,  1.,  1.,  1.,  1.,  1.,\n",
       "        1.,  1.,  1.,  1.,  1.,  1.,  1.,  1.,  1.,  1.,  1.,  1.,  1.,\n",
       "        1.,  1.,  1.,  1.,  1.,  1.,  1.,  1.,  1.,  1.,  1.,  1.,  1.,\n",
       "        1.,  1.,  1.,  1.,  1.,  1.,  1.,  1.,  1.,  1.,  1.,  1.,  1.,\n",
       "        1.,  1.,  1.,  1.,  1.,  1.,  1.,  1.,  1.,  1.,  1.,  1.,  1.,\n",
       "        1.,  1.,  1.,  1.,  1.,  1.,  1.,  1.,  1.,  1.,  1.,  1.,  1.,\n",
       "        1.,  1.,  1.,  1.,  1.,  1.,  1.,  1.,  1.,  1.,  1.,  1.,  1.,\n",
       "        1.,  1.,  1.,  1.,  1.,  1.,  1.,  1.,  1.,  1.,  1.,  1.,  1.,\n",
       "        1.,  1.,  1.,  1.,  1.,  1.,  1.,  1.,  1.,  1.,  1.,  1.,  1.,\n",
       "        1.,  1.,  1.,  1.,  1.,  1.,  1.,  1.,  1.,  1.,  1.,  1.,  1.,\n",
       "        1.,  1.,  1.,  1.,  1.,  1.,  1.,  1.,  1.,  1.,  1.,  1.,  1.,\n",
       "        1.,  1.,  1.,  1.,  1.,  1.,  1.,  1.,  1.,  1.,  1.,  1.,  1.,\n",
       "        1.,  1.,  1.,  1.,  1.,  1.,  1.,  1.,  1.,  1.,  1.,  1.,  1.,\n",
       "        1.,  1.,  1.,  1.,  1.,  1.,  1.,  1.,  1.,  1.,  1.,  1.,  1.,\n",
       "        1.,  1.,  1.,  1.,  1.,  1.,  1.,  1.,  1.,  1.,  1.,  1.,  1.,\n",
       "        1.,  1.,  1.,  1.,  1.,  1.,  1.,  1.,  1.,  1.,  1.,  1.,  1.,\n",
       "        1.,  1.,  1.,  1.,  1.,  1.,  1.,  1.,  1.,  1.,  1.,  1.,  1.,\n",
       "        1.,  1.,  1.,  1.,  1.,  1.,  1.,  1.,  1.,  1.,  1.,  1.,  1.,\n",
       "        1.,  1.,  1.,  1.,  1.,  1.,  1.,  1.,  1.,  1.,  1.,  1.,  1.,\n",
       "        1.,  1.,  1.,  1.,  1.,  1.,  1.,  1.,  1.,  1.,  1.,  1.,  1.,\n",
       "        1.,  1.,  1.,  1.,  1.,  1.,  1.,  1.,  1.,  1.,  1.,  1.,  1.,\n",
       "        1.,  1.,  1.,  1.,  1.,  1.,  1.,  1.,  1.,  1.,  1., -1., -1.,\n",
       "       -1., -1., -1., -1.,  1.,  1.,  1.,  1.,  1.,  1.,  1.,  1.,  1.,\n",
       "        1.,  1.,  1.,  1.,  1.,  1.,  1.,  1.,  1.,  1.,  1.,  1.,  1.,\n",
       "        1.,  1.,  1., -1., -1., -1., -1., -1., -1.,  1.,  1.,  1.,  1.,\n",
       "        1.,  1., -1., -1., -1., -1., -1., -1.,  1.,  1.,  1.,  1.,  1.,\n",
       "        1.,  1.,  1.,  1.,  1.,  1.,  1.,  1.,  1.,  1.,  1.,  1.,  1.,\n",
       "        1.,  1.,  1.,  1.,  1.,  1.,  1.,  1.,  1.,  1.,  1.,  1.,  1.,\n",
       "        1.,  1.,  1.,  1.,  1.,  1.,  1.,  1.,  1., -1., -1., -1., -1.,\n",
       "       -1., -1., -1., -1., -1., -1.,  1.,  1.,  1.,  1.,  1.,  1.,  1.,\n",
       "        1.,  1.,  1.,  1.,  1.,  1.,  1.,  1.,  1.,  1.,  1.,  1., -1.,\n",
       "       -1., -1.,  1.,  1.,  1.,  1.,  1.,  1.,  1.])"
      ]
     },
     "execution_count": 150,
     "metadata": {},
     "output_type": "execute_result"
    }
   ],
   "source": [
    "# Use the trained LogisticRegression model to predict the trading signals for the training data\n",
    "lr_training_signal_predictions = logistic_regression_model.predict(X_train_scaled)\n",
    "\n",
    "# Diplay the predictions\n",
    "lr_training_signal_predictions"
   ]
  },
  {
   "cell_type": "code",
   "execution_count": 151,
   "id": "21ffcd1d",
   "metadata": {},
   "outputs": [
    {
     "name": "stdout",
     "output_type": "stream",
     "text": [
      "              precision    recall  f1-score   support\n",
      "\n",
      "        -1.0       0.60      0.08      0.14       332\n",
      "         1.0       0.56      0.96      0.71       405\n",
      "\n",
      "    accuracy                           0.56       737\n",
      "   macro avg       0.58      0.52      0.42       737\n",
      "weighted avg       0.58      0.56      0.45       737\n",
      "\n"
     ]
    }
   ],
   "source": [
    "# Generate a classification report using the training data and the logistic regression model's predications\n",
    "lr_training_report = classification_report(y_train, lr_training_signal_predictions)\n",
    "\n",
    "# Review the classification report\n",
    "print(lr_training_report)"
   ]
  },
  {
   "cell_type": "markdown",
   "id": "e24a0d41",
   "metadata": {},
   "source": [
    "## Step 5: Backtest the `LogisticRegression` model using the testing data to evaluate its performance.\n"
   ]
  },
  {
   "cell_type": "code",
   "execution_count": 152,
   "id": "08a574aa",
   "metadata": {},
   "outputs": [],
   "source": [
    "# Use the trained model to predict the trading signals for the testing data.\n",
    "lr_testing_signal_predictions = logistic_regression_model.predict(X_test_scaled)"
   ]
  },
  {
   "cell_type": "code",
   "execution_count": 153,
   "id": "1fb03a23",
   "metadata": {},
   "outputs": [
    {
     "name": "stdout",
     "output_type": "stream",
     "text": [
      "              precision    recall  f1-score   support\n",
      "\n",
      "        -1.0       0.42      0.05      0.08       106\n",
      "         1.0       0.58      0.95      0.72       149\n",
      "\n",
      "    accuracy                           0.58       255\n",
      "   macro avg       0.50      0.50      0.40       255\n",
      "weighted avg       0.51      0.58      0.46       255\n",
      "\n"
     ]
    }
   ],
   "source": [
    "# Generate a classification report using the testing data and the logistic regression model's predictions\n",
    "lr_testing_report = classification_report(y_test, lr_testing_signal_predictions)\n",
    "\n",
    "# Review the testing classification report\n",
    "print(lr_testing_report)"
   ]
  },
  {
   "cell_type": "markdown",
   "id": "40673147",
   "metadata": {},
   "source": [
    "## Step 6: Compare the performance of the logistic regression and SVM models using the classification reports generated with the testing data. "
   ]
  },
  {
   "cell_type": "code",
   "execution_count": 154,
   "id": "57cc2e56",
   "metadata": {},
   "outputs": [
    {
     "name": "stdout",
     "output_type": "stream",
     "text": [
      "Logistic Regression Classification Report\n",
      "              precision    recall  f1-score   support\n",
      "\n",
      "        -1.0       0.42      0.05      0.08       106\n",
      "         1.0       0.58      0.95      0.72       149\n",
      "\n",
      "    accuracy                           0.58       255\n",
      "   macro avg       0.50      0.50      0.40       255\n",
      "weighted avg       0.51      0.58      0.46       255\n",
      "\n"
     ]
    }
   ],
   "source": [
    "# Print the classification report for the Logistic Regression model using the test data\n",
    "print(\"Logistic Regression Classification Report\")\n",
    "print(lr_testing_report)"
   ]
  },
  {
   "cell_type": "code",
   "execution_count": 155,
   "id": "d80a2280",
   "metadata": {},
   "outputs": [
    {
     "name": "stdout",
     "output_type": "stream",
     "text": [
      "SVM Classification Report\n",
      "              precision    recall  f1-score   support\n",
      "\n",
      "        -1.0       0.00      0.00      0.00       106\n",
      "         1.0       0.58      1.00      0.74       149\n",
      "\n",
      "    accuracy                           0.58       255\n",
      "   macro avg       0.29      0.50      0.37       255\n",
      "weighted avg       0.34      0.58      0.43       255\n",
      "\n"
     ]
    }
   ],
   "source": [
    "# Print the classification report for the SVM model using the test data\n",
    "print(\"SVM Classification Report\")\n",
    "print(svm_testing_report)"
   ]
  },
  {
   "cell_type": "code",
   "execution_count": null,
   "id": "2bd3c5cd",
   "metadata": {},
   "outputs": [],
   "source": []
  }
 ],
 "metadata": {
  "kernelspec": {
   "display_name": "Python (dev)",
   "language": "python",
   "name": "dev"
  },
  "language_info": {
   "codemirror_mode": {
    "name": "ipython",
    "version": 3
   },
   "file_extension": ".py",
   "mimetype": "text/x-python",
   "name": "python",
   "nbconvert_exporter": "python",
   "pygments_lexer": "ipython3",
   "version": "3.7.10"
  }
 },
 "nbformat": 4,
 "nbformat_minor": 5
}
